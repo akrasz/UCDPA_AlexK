{
 "cells": [
  {
   "cell_type": "markdown",
   "id": "63dd4777-2e62-4063-bf8d-59752b7f9ef9",
   "metadata": {},
   "source": [
    "I IMPORT PACKAGES"
   ]
  },
  {
   "cell_type": "code",
   "execution_count": 1,
   "id": "0c6a6810-d4ae-4640-b609-fe09f7450f19",
   "metadata": {},
   "outputs": [],
   "source": [
    "import pandas as pd\n",
    "import numpy as np\n",
    "import matplotlib.pyplot as plt\n",
    "import seaborn as sns\n",
    "import datetime \n",
    "import requests"
   ]
  },
  {
   "cell_type": "markdown",
   "id": "a6d57132-457b-42ea-8943-2a2fc2c5bd96",
   "metadata": {},
   "source": [
    "II IMPORT DATASETS FOR ANALYSIS AND PREPARE FOR MERGING"
   ]
  },
  {
   "cell_type": "markdown",
   "id": "5ee21199-8899-4f53-a281-2e3990d98c52",
   "metadata": {},
   "source": [
    "from LOCAL"
   ]
  },
  {
   "cell_type": "code",
   "execution_count": 2,
   "id": "f342f557-2f3f-4667-98a0-088b579b86f8",
   "metadata": {},
   "outputs": [
    {
     "data": {
      "text/plain": [
       "(105683, 34)"
      ]
     },
     "execution_count": 2,
     "metadata": {},
     "output_type": "execute_result"
    }
   ],
   "source": [
    "# import the local file\n",
    "localDataset=pd.read_csv(r'open_weekly_food.csv', index_col=0)\n",
    "localDataset.shape"
   ]
  },
  {
   "cell_type": "code",
   "execution_count": 3,
   "id": "e471cb71-b1b2-487e-b1c0-e0eec7385801",
   "metadata": {},
   "outputs": [
    {
     "data": {
      "text/html": [
       "<div>\n",
       "<style scoped>\n",
       "    .dataframe tbody tr th:only-of-type {\n",
       "        vertical-align: middle;\n",
       "    }\n",
       "\n",
       "    .dataframe tbody tr th {\n",
       "        vertical-align: top;\n",
       "    }\n",
       "\n",
       "    .dataframe thead th {\n",
       "        text-align: right;\n",
       "    }\n",
       "</style>\n",
       "<table border=\"1\" class=\"dataframe\">\n",
       "  <thead>\n",
       "    <tr style=\"text-align: right;\">\n",
       "      <th></th>\n",
       "      <th>submission_date</th>\n",
       "      <th>gender</th>\n",
       "      <th>age</th>\n",
       "      <th>geography</th>\n",
       "      <th>financial_situation</th>\n",
       "      <th>education</th>\n",
       "      <th>employment_status</th>\n",
       "      <th>submission_state</th>\n",
       "      <th>cereals_plantains_tubers_7days</th>\n",
       "      <th>vegs_7days</th>\n",
       "      <th>...</th>\n",
       "      <th>help_from_others_in_country_7days</th>\n",
       "      <th>help_from_others_outside_country_7days</th>\n",
       "      <th>spend_food_savings_7days</th>\n",
       "      <th>sell_or_exchange_property_7days</th>\n",
       "      <th>work_in_exchange_for_food_7days</th>\n",
       "      <th>food_purchased_7days</th>\n",
       "      <th>food_purchased_from_7days</th>\n",
       "      <th>food_transferred_7days</th>\n",
       "      <th>avg_distance_traveled_for_food_7days</th>\n",
       "      <th>head_household</th>\n",
       "    </tr>\n",
       "    <tr>\n",
       "      <th>submission_id</th>\n",
       "      <th></th>\n",
       "      <th></th>\n",
       "      <th></th>\n",
       "      <th></th>\n",
       "      <th></th>\n",
       "      <th></th>\n",
       "      <th></th>\n",
       "      <th></th>\n",
       "      <th></th>\n",
       "      <th></th>\n",
       "      <th></th>\n",
       "      <th></th>\n",
       "      <th></th>\n",
       "      <th></th>\n",
       "      <th></th>\n",
       "      <th></th>\n",
       "      <th></th>\n",
       "      <th></th>\n",
       "      <th></th>\n",
       "      <th></th>\n",
       "      <th></th>\n",
       "    </tr>\n",
       "  </thead>\n",
       "  <tbody>\n",
       "    <tr>\n",
       "      <th>5308575264276480</th>\n",
       "      <td>2020-06-10</td>\n",
       "      <td>Male</td>\n",
       "      <td>26 to 35 years old</td>\n",
       "      <td>Suburban/Peri-urban</td>\n",
       "      <td>I can afford food, but nothing else</td>\n",
       "      <td>University or college degree completed</td>\n",
       "      <td>I am doing community or military service</td>\n",
       "      <td>Nueva Esparta</td>\n",
       "      <td>1</td>\n",
       "      <td>4</td>\n",
       "      <td>...</td>\n",
       "      <td>0.0</td>\n",
       "      <td>0.0</td>\n",
       "      <td>3.0</td>\n",
       "      <td>0.0</td>\n",
       "      <td>4.0</td>\n",
       "      <td>3</td>\n",
       "      <td>Butcher shop^Grocery store^Market</td>\n",
       "      <td>Bicycle^On foot</td>\n",
       "      <td>.5-1 kilometer</td>\n",
       "      <td>Yes</td>\n",
       "    </tr>\n",
       "    <tr>\n",
       "      <th>6044576395821056</th>\n",
       "      <td>2020-05-29</td>\n",
       "      <td>Male</td>\n",
       "      <td>26 to 35 years old</td>\n",
       "      <td>Suburban/Peri-urban</td>\n",
       "      <td>I can afford food, but nothing else</td>\n",
       "      <td>University or college degree completed</td>\n",
       "      <td>I am doing community or military service</td>\n",
       "      <td>Nueva Esparta</td>\n",
       "      <td>2</td>\n",
       "      <td>5</td>\n",
       "      <td>...</td>\n",
       "      <td>0.0</td>\n",
       "      <td>0.0</td>\n",
       "      <td>2.0</td>\n",
       "      <td>1.0</td>\n",
       "      <td>1.0</td>\n",
       "      <td>1</td>\n",
       "      <td>Market</td>\n",
       "      <td>On foot</td>\n",
       "      <td>.5-1 kilometer</td>\n",
       "      <td>Yes</td>\n",
       "    </tr>\n",
       "  </tbody>\n",
       "</table>\n",
       "<p>2 rows × 34 columns</p>\n",
       "</div>"
      ],
      "text/plain": [
       "                 submission_date gender                 age  \\\n",
       "submission_id                                                 \n",
       "5308575264276480      2020-06-10   Male  26 to 35 years old   \n",
       "6044576395821056      2020-05-29   Male  26 to 35 years old   \n",
       "\n",
       "                            geography                  financial_situation  \\\n",
       "submission_id                                                                \n",
       "5308575264276480  Suburban/Peri-urban  I can afford food, but nothing else   \n",
       "6044576395821056  Suburban/Peri-urban  I can afford food, but nothing else   \n",
       "\n",
       "                                               education  \\\n",
       "submission_id                                              \n",
       "5308575264276480  University or college degree completed   \n",
       "6044576395821056  University or college degree completed   \n",
       "\n",
       "                                         employment_status submission_state  \\\n",
       "submission_id                                                                 \n",
       "5308575264276480  I am doing community or military service    Nueva Esparta   \n",
       "6044576395821056  I am doing community or military service    Nueva Esparta   \n",
       "\n",
       "                  cereals_plantains_tubers_7days  vegs_7days  ...  \\\n",
       "submission_id                                                 ...   \n",
       "5308575264276480                               1           4  ...   \n",
       "6044576395821056                               2           5  ...   \n",
       "\n",
       "                  help_from_others_in_country_7days  \\\n",
       "submission_id                                         \n",
       "5308575264276480                                0.0   \n",
       "6044576395821056                                0.0   \n",
       "\n",
       "                  help_from_others_outside_country_7days  \\\n",
       "submission_id                                              \n",
       "5308575264276480                                     0.0   \n",
       "6044576395821056                                     0.0   \n",
       "\n",
       "                  spend_food_savings_7days  sell_or_exchange_property_7days  \\\n",
       "submission_id                                                                 \n",
       "5308575264276480                       3.0                              0.0   \n",
       "6044576395821056                       2.0                              1.0   \n",
       "\n",
       "                  work_in_exchange_for_food_7days  food_purchased_7days  \\\n",
       "submission_id                                                             \n",
       "5308575264276480                              4.0                     3   \n",
       "6044576395821056                              1.0                     1   \n",
       "\n",
       "                          food_purchased_from_7days  food_transferred_7days  \\\n",
       "submission_id                                                                 \n",
       "5308575264276480  Butcher shop^Grocery store^Market         Bicycle^On foot   \n",
       "6044576395821056                             Market                 On foot   \n",
       "\n",
       "                  avg_distance_traveled_for_food_7days  head_household  \n",
       "submission_id                                                           \n",
       "5308575264276480                        .5-1 kilometer             Yes  \n",
       "6044576395821056                        .5-1 kilometer             Yes  \n",
       "\n",
       "[2 rows x 34 columns]"
      ]
     },
     "execution_count": 3,
     "metadata": {},
     "output_type": "execute_result"
    }
   ],
   "source": [
    "localDataset.head(2)"
   ]
  },
  {
   "cell_type": "markdown",
   "id": "ec71f94b-152b-473a-bc9d-879e22850934",
   "metadata": {},
   "source": [
    "from ADDRESS"
   ]
  },
  {
   "cell_type": "code",
   "execution_count": 4,
   "id": "82f68e44-6d34-4a51-a8a9-911f1b591e03",
   "metadata": {},
   "outputs": [
    {
     "data": {
      "text/plain": [
       "(105683, 34)"
      ]
     },
     "execution_count": 4,
     "metadata": {},
     "output_type": "execute_result"
    }
   ],
   "source": [
    "# create a request\n",
    "webDatasetReq = requests.get(\"https://data.humdata.org/dataset/c287ee2b-6350-481d-82cc-507473813c57/resource/b96c27f1-4108-405d-bb8d-e8307bfb8a92/download/open_weekly_food.csv\")\n",
    "# save the file locally\n",
    "open('open_weekly_food_web.csv', 'wb').write(webDatasetReq.content)\n",
    "\n",
    "# open local file just downloaded\n",
    "webDataset=pd.read_csv(r'open_weekly_food_web.csv', index_col=0)\n",
    "webDataset.shape"
   ]
  },
  {
   "cell_type": "code",
   "execution_count": 5,
   "id": "56f64706-bc93-4cda-8053-32a71bdeedde",
   "metadata": {},
   "outputs": [
    {
     "data": {
      "text/html": [
       "<div>\n",
       "<style scoped>\n",
       "    .dataframe tbody tr th:only-of-type {\n",
       "        vertical-align: middle;\n",
       "    }\n",
       "\n",
       "    .dataframe tbody tr th {\n",
       "        vertical-align: top;\n",
       "    }\n",
       "\n",
       "    .dataframe thead th {\n",
       "        text-align: right;\n",
       "    }\n",
       "</style>\n",
       "<table border=\"1\" class=\"dataframe\">\n",
       "  <thead>\n",
       "    <tr style=\"text-align: right;\">\n",
       "      <th></th>\n",
       "      <th>submission_date</th>\n",
       "      <th>gender</th>\n",
       "      <th>age</th>\n",
       "      <th>geography</th>\n",
       "      <th>financial_situation</th>\n",
       "      <th>education</th>\n",
       "      <th>employment_status</th>\n",
       "      <th>submission_state</th>\n",
       "      <th>cereals_plantains_tubers_7days</th>\n",
       "      <th>vegs_7days</th>\n",
       "      <th>...</th>\n",
       "      <th>help_from_others_in_country_7days</th>\n",
       "      <th>help_from_others_outside_country_7days</th>\n",
       "      <th>spend_food_savings_7days</th>\n",
       "      <th>sell_or_exchange_property_7days</th>\n",
       "      <th>work_in_exchange_for_food_7days</th>\n",
       "      <th>food_purchased_7days</th>\n",
       "      <th>food_purchased_from_7days</th>\n",
       "      <th>food_transferred_7days</th>\n",
       "      <th>avg_distance_traveled_for_food_7days</th>\n",
       "      <th>head_household</th>\n",
       "    </tr>\n",
       "    <tr>\n",
       "      <th>submission_id</th>\n",
       "      <th></th>\n",
       "      <th></th>\n",
       "      <th></th>\n",
       "      <th></th>\n",
       "      <th></th>\n",
       "      <th></th>\n",
       "      <th></th>\n",
       "      <th></th>\n",
       "      <th></th>\n",
       "      <th></th>\n",
       "      <th></th>\n",
       "      <th></th>\n",
       "      <th></th>\n",
       "      <th></th>\n",
       "      <th></th>\n",
       "      <th></th>\n",
       "      <th></th>\n",
       "      <th></th>\n",
       "      <th></th>\n",
       "      <th></th>\n",
       "      <th></th>\n",
       "    </tr>\n",
       "  </thead>\n",
       "  <tbody>\n",
       "    <tr>\n",
       "      <th>5308575264276480</th>\n",
       "      <td>2020-06-10</td>\n",
       "      <td>Male</td>\n",
       "      <td>26 to 35 years old</td>\n",
       "      <td>Suburban/Peri-urban</td>\n",
       "      <td>I can afford food, but nothing else</td>\n",
       "      <td>University or college degree completed</td>\n",
       "      <td>I am doing community or military service</td>\n",
       "      <td>Nueva Esparta</td>\n",
       "      <td>1</td>\n",
       "      <td>4</td>\n",
       "      <td>...</td>\n",
       "      <td>0.0</td>\n",
       "      <td>0.0</td>\n",
       "      <td>3.0</td>\n",
       "      <td>0.0</td>\n",
       "      <td>4.0</td>\n",
       "      <td>3</td>\n",
       "      <td>Butcher shop^Grocery store^Market</td>\n",
       "      <td>Bicycle^On foot</td>\n",
       "      <td>.5-1 kilometer</td>\n",
       "      <td>Yes</td>\n",
       "    </tr>\n",
       "    <tr>\n",
       "      <th>6044576395821056</th>\n",
       "      <td>2020-05-29</td>\n",
       "      <td>Male</td>\n",
       "      <td>26 to 35 years old</td>\n",
       "      <td>Suburban/Peri-urban</td>\n",
       "      <td>I can afford food, but nothing else</td>\n",
       "      <td>University or college degree completed</td>\n",
       "      <td>I am doing community or military service</td>\n",
       "      <td>Nueva Esparta</td>\n",
       "      <td>2</td>\n",
       "      <td>5</td>\n",
       "      <td>...</td>\n",
       "      <td>0.0</td>\n",
       "      <td>0.0</td>\n",
       "      <td>2.0</td>\n",
       "      <td>1.0</td>\n",
       "      <td>1.0</td>\n",
       "      <td>1</td>\n",
       "      <td>Market</td>\n",
       "      <td>On foot</td>\n",
       "      <td>.5-1 kilometer</td>\n",
       "      <td>Yes</td>\n",
       "    </tr>\n",
       "  </tbody>\n",
       "</table>\n",
       "<p>2 rows × 34 columns</p>\n",
       "</div>"
      ],
      "text/plain": [
       "                 submission_date gender                 age  \\\n",
       "submission_id                                                 \n",
       "5308575264276480      2020-06-10   Male  26 to 35 years old   \n",
       "6044576395821056      2020-05-29   Male  26 to 35 years old   \n",
       "\n",
       "                            geography                  financial_situation  \\\n",
       "submission_id                                                                \n",
       "5308575264276480  Suburban/Peri-urban  I can afford food, but nothing else   \n",
       "6044576395821056  Suburban/Peri-urban  I can afford food, but nothing else   \n",
       "\n",
       "                                               education  \\\n",
       "submission_id                                              \n",
       "5308575264276480  University or college degree completed   \n",
       "6044576395821056  University or college degree completed   \n",
       "\n",
       "                                         employment_status submission_state  \\\n",
       "submission_id                                                                 \n",
       "5308575264276480  I am doing community or military service    Nueva Esparta   \n",
       "6044576395821056  I am doing community or military service    Nueva Esparta   \n",
       "\n",
       "                  cereals_plantains_tubers_7days  vegs_7days  ...  \\\n",
       "submission_id                                                 ...   \n",
       "5308575264276480                               1           4  ...   \n",
       "6044576395821056                               2           5  ...   \n",
       "\n",
       "                  help_from_others_in_country_7days  \\\n",
       "submission_id                                         \n",
       "5308575264276480                                0.0   \n",
       "6044576395821056                                0.0   \n",
       "\n",
       "                  help_from_others_outside_country_7days  \\\n",
       "submission_id                                              \n",
       "5308575264276480                                     0.0   \n",
       "6044576395821056                                     0.0   \n",
       "\n",
       "                  spend_food_savings_7days  sell_or_exchange_property_7days  \\\n",
       "submission_id                                                                 \n",
       "5308575264276480                       3.0                              0.0   \n",
       "6044576395821056                       2.0                              1.0   \n",
       "\n",
       "                  work_in_exchange_for_food_7days  food_purchased_7days  \\\n",
       "submission_id                                                             \n",
       "5308575264276480                              4.0                     3   \n",
       "6044576395821056                              1.0                     1   \n",
       "\n",
       "                          food_purchased_from_7days  food_transferred_7days  \\\n",
       "submission_id                                                                 \n",
       "5308575264276480  Butcher shop^Grocery store^Market         Bicycle^On foot   \n",
       "6044576395821056                             Market                 On foot   \n",
       "\n",
       "                  avg_distance_traveled_for_food_7days  head_household  \n",
       "submission_id                                                           \n",
       "5308575264276480                        .5-1 kilometer             Yes  \n",
       "6044576395821056                        .5-1 kilometer             Yes  \n",
       "\n",
       "[2 rows x 34 columns]"
      ]
     },
     "execution_count": 5,
     "metadata": {},
     "output_type": "execute_result"
    }
   ],
   "source": [
    "webDataset.head(2)"
   ]
  },
  {
   "cell_type": "markdown",
   "id": "5a8d5216-53ad-48e3-b811-3fd324d49ac4",
   "metadata": {},
   "source": [
    "III MERGE THE TWO DATASETS"
   ]
  },
  {
   "cell_type": "code",
   "execution_count": 6,
   "id": "83f7253a-475f-42eb-bb67-6e9f762bf923",
   "metadata": {},
   "outputs": [
    {
     "data": {
      "text/plain": [
       "(211366, 34)"
      ]
     },
     "execution_count": 6,
     "metadata": {},
     "output_type": "execute_result"
    }
   ],
   "source": [
    "# create a new DataFrame\n",
    "mergedDataset = pd.concat([localDataset, webDataset])\n",
    "\n",
    "# save the DataFrame into a new csv file\n",
    "mergedDataset.to_csv(\"open_weekly_food_merged.csv\", sep=',', index=False)\n",
    "# check if it worked and the number of observations has doubled\n",
    "mergedDataset.shape"
   ]
  },
  {
   "cell_type": "markdown",
   "id": "508056db-41d7-4f67-999c-777fd91da44b",
   "metadata": {},
   "source": [
    "IV CLEAN UP THE DATASET FOR ANALYSIS (DUPLICATES, NAs, INDEXING) + GENERAL OVERVIEW"
   ]
  },
  {
   "cell_type": "code",
   "execution_count": 7,
   "id": "07525aa6-3459-43cb-8e2d-085ccaeb44ba",
   "metadata": {},
   "outputs": [
    {
     "data": {
      "text/plain": [
       "RangeIndex(start=0, stop=211366, step=1)"
      ]
     },
     "execution_count": 7,
     "metadata": {},
     "output_type": "execute_result"
    }
   ],
   "source": [
    "#reset my index so that i can drop duplicates using submission id. atm it is the idex and one cannot drop dublicates using index\n",
    "mergedDataset.reset_index(inplace=True)\n",
    "mergedDataset.index"
   ]
  },
  {
   "cell_type": "code",
   "execution_count": 8,
   "id": "65047ff3-2cc3-4afa-83a3-33b10437ee76",
   "metadata": {},
   "outputs": [
    {
     "data": {
      "text/html": [
       "<div>\n",
       "<style scoped>\n",
       "    .dataframe tbody tr th:only-of-type {\n",
       "        vertical-align: middle;\n",
       "    }\n",
       "\n",
       "    .dataframe tbody tr th {\n",
       "        vertical-align: top;\n",
       "    }\n",
       "\n",
       "    .dataframe thead th {\n",
       "        text-align: right;\n",
       "    }\n",
       "</style>\n",
       "<table border=\"1\" class=\"dataframe\">\n",
       "  <thead>\n",
       "    <tr style=\"text-align: right;\">\n",
       "      <th></th>\n",
       "      <th>submission_id</th>\n",
       "      <th>submission_date</th>\n",
       "      <th>gender</th>\n",
       "      <th>age</th>\n",
       "      <th>geography</th>\n",
       "      <th>financial_situation</th>\n",
       "      <th>education</th>\n",
       "      <th>employment_status</th>\n",
       "      <th>submission_state</th>\n",
       "      <th>cereals_plantains_tubers_7days</th>\n",
       "      <th>...</th>\n",
       "      <th>help_from_others_in_country_7days</th>\n",
       "      <th>help_from_others_outside_country_7days</th>\n",
       "      <th>spend_food_savings_7days</th>\n",
       "      <th>sell_or_exchange_property_7days</th>\n",
       "      <th>work_in_exchange_for_food_7days</th>\n",
       "      <th>food_purchased_7days</th>\n",
       "      <th>food_purchased_from_7days</th>\n",
       "      <th>food_transferred_7days</th>\n",
       "      <th>avg_distance_traveled_for_food_7days</th>\n",
       "      <th>head_household</th>\n",
       "    </tr>\n",
       "  </thead>\n",
       "  <tbody>\n",
       "    <tr>\n",
       "      <th>0</th>\n",
       "      <td>5308575264276480</td>\n",
       "      <td>2020-06-10</td>\n",
       "      <td>Male</td>\n",
       "      <td>26 to 35 years old</td>\n",
       "      <td>Suburban/Peri-urban</td>\n",
       "      <td>I can afford food, but nothing else</td>\n",
       "      <td>University or college degree completed</td>\n",
       "      <td>I am doing community or military service</td>\n",
       "      <td>Nueva Esparta</td>\n",
       "      <td>1</td>\n",
       "      <td>...</td>\n",
       "      <td>0.0</td>\n",
       "      <td>0.0</td>\n",
       "      <td>3.0</td>\n",
       "      <td>0.0</td>\n",
       "      <td>4.0</td>\n",
       "      <td>3</td>\n",
       "      <td>Butcher shop^Grocery store^Market</td>\n",
       "      <td>Bicycle^On foot</td>\n",
       "      <td>.5-1 kilometer</td>\n",
       "      <td>Yes</td>\n",
       "    </tr>\n",
       "    <tr>\n",
       "      <th>1</th>\n",
       "      <td>6044576395821056</td>\n",
       "      <td>2020-05-29</td>\n",
       "      <td>Male</td>\n",
       "      <td>26 to 35 years old</td>\n",
       "      <td>Suburban/Peri-urban</td>\n",
       "      <td>I can afford food, but nothing else</td>\n",
       "      <td>University or college degree completed</td>\n",
       "      <td>I am doing community or military service</td>\n",
       "      <td>Nueva Esparta</td>\n",
       "      <td>2</td>\n",
       "      <td>...</td>\n",
       "      <td>0.0</td>\n",
       "      <td>0.0</td>\n",
       "      <td>2.0</td>\n",
       "      <td>1.0</td>\n",
       "      <td>1.0</td>\n",
       "      <td>1</td>\n",
       "      <td>Market</td>\n",
       "      <td>On foot</td>\n",
       "      <td>.5-1 kilometer</td>\n",
       "      <td>Yes</td>\n",
       "    </tr>\n",
       "  </tbody>\n",
       "</table>\n",
       "<p>2 rows × 35 columns</p>\n",
       "</div>"
      ],
      "text/plain": [
       "      submission_id submission_date gender                 age  \\\n",
       "0  5308575264276480      2020-06-10   Male  26 to 35 years old   \n",
       "1  6044576395821056      2020-05-29   Male  26 to 35 years old   \n",
       "\n",
       "             geography                  financial_situation  \\\n",
       "0  Suburban/Peri-urban  I can afford food, but nothing else   \n",
       "1  Suburban/Peri-urban  I can afford food, but nothing else   \n",
       "\n",
       "                                education  \\\n",
       "0  University or college degree completed   \n",
       "1  University or college degree completed   \n",
       "\n",
       "                          employment_status submission_state  \\\n",
       "0  I am doing community or military service    Nueva Esparta   \n",
       "1  I am doing community or military service    Nueva Esparta   \n",
       "\n",
       "   cereals_plantains_tubers_7days  ...  help_from_others_in_country_7days  \\\n",
       "0                               1  ...                                0.0   \n",
       "1                               2  ...                                0.0   \n",
       "\n",
       "   help_from_others_outside_country_7days  spend_food_savings_7days  \\\n",
       "0                                     0.0                       3.0   \n",
       "1                                     0.0                       2.0   \n",
       "\n",
       "   sell_or_exchange_property_7days  work_in_exchange_for_food_7days  \\\n",
       "0                              0.0                              4.0   \n",
       "1                              1.0                              1.0   \n",
       "\n",
       "   food_purchased_7days          food_purchased_from_7days  \\\n",
       "0                     3  Butcher shop^Grocery store^Market   \n",
       "1                     1                             Market   \n",
       "\n",
       "   food_transferred_7days  avg_distance_traveled_for_food_7days  \\\n",
       "0         Bicycle^On foot                        .5-1 kilometer   \n",
       "1                 On foot                        .5-1 kilometer   \n",
       "\n",
       "   head_household  \n",
       "0             Yes  \n",
       "1             Yes  \n",
       "\n",
       "[2 rows x 35 columns]"
      ]
     },
     "execution_count": 8,
     "metadata": {},
     "output_type": "execute_result"
    }
   ],
   "source": [
    "mergedDataset.head(2)"
   ]
  },
  {
   "cell_type": "code",
   "execution_count": 9,
   "id": "bd827f78-fe72-4dda-b982-509c64f12c25",
   "metadata": {},
   "outputs": [],
   "source": [
    "#drop duplicates (i.e. in practice undoing the merge & making the file for analysis half the size)\n",
    "mergedDataset.drop_duplicates(subset='submission_id', keep='first', inplace=True)"
   ]
  },
  {
   "cell_type": "code",
   "execution_count": 10,
   "id": "086bcf03-6d89-44b2-8cf0-97c5612ed632",
   "metadata": {},
   "outputs": [],
   "source": [
    "#save again the 'cleaned' file \n",
    "mergedDataset.to_csv(\"open_weekly_food_droppedduplicates.csv\", sep=',', index=False)"
   ]
  },
  {
   "cell_type": "code",
   "execution_count": 11,
   "id": "f2675eaf-9518-4d59-bfc0-aa9228e59017",
   "metadata": {},
   "outputs": [
    {
     "data": {
      "text/plain": [
       "(105683, 35)"
      ]
     },
     "execution_count": 11,
     "metadata": {},
     "output_type": "execute_result"
    }
   ],
   "source": [
    "#check if worked and the number of observations is back to the original shape: 105683, 35  \n",
    "mergedDataset.shape"
   ]
  },
  {
   "cell_type": "code",
   "execution_count": 12,
   "id": "5f27b79b-aebf-45fb-b271-8c0b2d8ceefb",
   "metadata": {},
   "outputs": [
    {
     "data": {
      "text/plain": [
       "submission_id                                 0.000000\n",
       "submission_date                               0.000000\n",
       "gender                                        0.000000\n",
       "age                                           0.000000\n",
       "geography                                     0.000000\n",
       "financial_situation                           0.000000\n",
       "education                                     0.000000\n",
       "employment_status                             0.000000\n",
       "submission_state                              0.000000\n",
       "cereals_plantains_tubers_7days                0.000000\n",
       "vegs_7days                                    0.000000\n",
       "fruits_7days                                  0.000000\n",
       "meat_eggs_seafood_7days                       0.000000\n",
       "grains_7days                                  0.000000\n",
       "dairy_7days                                   0.000000\n",
       "oils_fats_7days                               0.000000\n",
       "sugars_7days                                  0.000000\n",
       "cheap_food_7days                              0.209116\n",
       "skip_food_7days                               0.209116\n",
       "portion_reduction_7days                       0.209116\n",
       "adult_reduction_7days                         0.209116\n",
       "eaten_one_time_or_not_eaten_7days             0.209116\n",
       "non_adult_sent_to_eat_somewhere_else_7days    0.209116\n",
       "adult_sent_to_eat_somewhere_else_7days        0.209116\n",
       "borrowed_food_7days                           0.209116\n",
       "help_from_others_in_country_7days             0.209116\n",
       "help_from_others_outside_country_7days        0.209116\n",
       "spend_food_savings_7days                      0.209116\n",
       "sell_or_exchange_property_7days               0.209116\n",
       "work_in_exchange_for_food_7days               0.209116\n",
       "food_purchased_7days                          0.000000\n",
       "food_purchased_from_7days                     0.000000\n",
       "food_transferred_7days                        0.000946\n",
       "avg_distance_traveled_for_food_7days          0.000000\n",
       "head_household                                0.011355\n",
       "dtype: float64"
      ]
     },
     "execution_count": 12,
     "metadata": {},
     "output_type": "execute_result"
    }
   ],
   "source": [
    "#checking for % NAs\n",
    "mergedDataset.isna().sum()/len(mergedDataset) * 100"
   ]
  },
  {
   "cell_type": "code",
   "execution_count": 13,
   "id": "5d3d597c-737f-43be-b6db-32ef7d3e67f0",
   "metadata": {},
   "outputs": [],
   "source": [
    "#the NAs do not affect the columns I will need for the Food Consumption Score analysis i.e.:\n",
    "#cereals_plantains_tubers_7days                0.000000\n",
    "#vegs_7days                                    0.000000\n",
    "#fruits_7days                                  0.000000\n",
    "#meat_eggs_seafood_7days                       0.000000\n",
    "#grains_7days                                  0.000000\n",
    "#dairy_7days                                   0.000000\n",
    "#oils_fats_7days                               0.000000\n",
    "#sugars_7days                                  0.000000\n",
    "\n",
    "#and number of NAs is not significant for the variables I might want to search for relationships with later on so will NOT use here mergedDataset.dropna(inplace=True)"
   ]
  },
  {
   "cell_type": "code",
   "execution_count": 14,
   "id": "8b05c2aa-2d84-4b8d-b23b-36065eea9f60",
   "metadata": {},
   "outputs": [
    {
     "data": {
      "text/plain": [
       "RangeIndex(start=0, stop=105683, step=1)"
      ]
     },
     "execution_count": 14,
     "metadata": {},
     "output_type": "execute_result"
    }
   ],
   "source": [
    "#reset my index now that the data has been sufficiently cleaned\n",
    "mergedDataset.reset_index(inplace=True)\n",
    "mergedDataset.index"
   ]
  },
  {
   "cell_type": "code",
   "execution_count": 15,
   "id": "46ec962a-28b9-46b0-ae46-2855092e95c0",
   "metadata": {},
   "outputs": [
    {
     "data": {
      "text/html": [
       "<div>\n",
       "<style scoped>\n",
       "    .dataframe tbody tr th:only-of-type {\n",
       "        vertical-align: middle;\n",
       "    }\n",
       "\n",
       "    .dataframe tbody tr th {\n",
       "        vertical-align: top;\n",
       "    }\n",
       "\n",
       "    .dataframe thead th {\n",
       "        text-align: right;\n",
       "    }\n",
       "</style>\n",
       "<table border=\"1\" class=\"dataframe\">\n",
       "  <thead>\n",
       "    <tr style=\"text-align: right;\">\n",
       "      <th></th>\n",
       "      <th>index</th>\n",
       "      <th>submission_id</th>\n",
       "      <th>submission_date</th>\n",
       "      <th>gender</th>\n",
       "      <th>age</th>\n",
       "      <th>geography</th>\n",
       "      <th>financial_situation</th>\n",
       "      <th>education</th>\n",
       "      <th>employment_status</th>\n",
       "      <th>submission_state</th>\n",
       "      <th>...</th>\n",
       "      <th>help_from_others_in_country_7days</th>\n",
       "      <th>help_from_others_outside_country_7days</th>\n",
       "      <th>spend_food_savings_7days</th>\n",
       "      <th>sell_or_exchange_property_7days</th>\n",
       "      <th>work_in_exchange_for_food_7days</th>\n",
       "      <th>food_purchased_7days</th>\n",
       "      <th>food_purchased_from_7days</th>\n",
       "      <th>food_transferred_7days</th>\n",
       "      <th>avg_distance_traveled_for_food_7days</th>\n",
       "      <th>head_household</th>\n",
       "    </tr>\n",
       "  </thead>\n",
       "  <tbody>\n",
       "    <tr>\n",
       "      <th>0</th>\n",
       "      <td>0</td>\n",
       "      <td>5308575264276480</td>\n",
       "      <td>2020-06-10</td>\n",
       "      <td>Male</td>\n",
       "      <td>26 to 35 years old</td>\n",
       "      <td>Suburban/Peri-urban</td>\n",
       "      <td>I can afford food, but nothing else</td>\n",
       "      <td>University or college degree completed</td>\n",
       "      <td>I am doing community or military service</td>\n",
       "      <td>Nueva Esparta</td>\n",
       "      <td>...</td>\n",
       "      <td>0.0</td>\n",
       "      <td>0.0</td>\n",
       "      <td>3.0</td>\n",
       "      <td>0.0</td>\n",
       "      <td>4.0</td>\n",
       "      <td>3</td>\n",
       "      <td>Butcher shop^Grocery store^Market</td>\n",
       "      <td>Bicycle^On foot</td>\n",
       "      <td>.5-1 kilometer</td>\n",
       "      <td>Yes</td>\n",
       "    </tr>\n",
       "    <tr>\n",
       "      <th>1</th>\n",
       "      <td>1</td>\n",
       "      <td>6044576395821056</td>\n",
       "      <td>2020-05-29</td>\n",
       "      <td>Male</td>\n",
       "      <td>26 to 35 years old</td>\n",
       "      <td>Suburban/Peri-urban</td>\n",
       "      <td>I can afford food, but nothing else</td>\n",
       "      <td>University or college degree completed</td>\n",
       "      <td>I am doing community or military service</td>\n",
       "      <td>Nueva Esparta</td>\n",
       "      <td>...</td>\n",
       "      <td>0.0</td>\n",
       "      <td>0.0</td>\n",
       "      <td>2.0</td>\n",
       "      <td>1.0</td>\n",
       "      <td>1.0</td>\n",
       "      <td>1</td>\n",
       "      <td>Market</td>\n",
       "      <td>On foot</td>\n",
       "      <td>.5-1 kilometer</td>\n",
       "      <td>Yes</td>\n",
       "    </tr>\n",
       "  </tbody>\n",
       "</table>\n",
       "<p>2 rows × 36 columns</p>\n",
       "</div>"
      ],
      "text/plain": [
       "   index     submission_id submission_date gender                 age  \\\n",
       "0      0  5308575264276480      2020-06-10   Male  26 to 35 years old   \n",
       "1      1  6044576395821056      2020-05-29   Male  26 to 35 years old   \n",
       "\n",
       "             geography                  financial_situation  \\\n",
       "0  Suburban/Peri-urban  I can afford food, but nothing else   \n",
       "1  Suburban/Peri-urban  I can afford food, but nothing else   \n",
       "\n",
       "                                education  \\\n",
       "0  University or college degree completed   \n",
       "1  University or college degree completed   \n",
       "\n",
       "                          employment_status submission_state  ...  \\\n",
       "0  I am doing community or military service    Nueva Esparta  ...   \n",
       "1  I am doing community or military service    Nueva Esparta  ...   \n",
       "\n",
       "   help_from_others_in_country_7days  help_from_others_outside_country_7days  \\\n",
       "0                                0.0                                     0.0   \n",
       "1                                0.0                                     0.0   \n",
       "\n",
       "   spend_food_savings_7days  sell_or_exchange_property_7days  \\\n",
       "0                       3.0                              0.0   \n",
       "1                       2.0                              1.0   \n",
       "\n",
       "   work_in_exchange_for_food_7days  food_purchased_7days  \\\n",
       "0                              4.0                     3   \n",
       "1                              1.0                     1   \n",
       "\n",
       "           food_purchased_from_7days  food_transferred_7days  \\\n",
       "0  Butcher shop^Grocery store^Market         Bicycle^On foot   \n",
       "1                             Market                 On foot   \n",
       "\n",
       "   avg_distance_traveled_for_food_7days  head_household  \n",
       "0                        .5-1 kilometer             Yes  \n",
       "1                        .5-1 kilometer             Yes  \n",
       "\n",
       "[2 rows x 36 columns]"
      ]
     },
     "execution_count": 15,
     "metadata": {},
     "output_type": "execute_result"
    }
   ],
   "source": [
    "#have a look at the structure\n",
    "mergedDataset.head(2)"
   ]
  },
  {
   "cell_type": "code",
   "execution_count": 16,
   "id": "07833c79-f52a-4bd2-8135-97679efbbb0d",
   "metadata": {},
   "outputs": [
    {
     "data": {
      "text/html": [
       "<div>\n",
       "<style scoped>\n",
       "    .dataframe tbody tr th:only-of-type {\n",
       "        vertical-align: middle;\n",
       "    }\n",
       "\n",
       "    .dataframe tbody tr th {\n",
       "        vertical-align: top;\n",
       "    }\n",
       "\n",
       "    .dataframe thead th {\n",
       "        text-align: right;\n",
       "    }\n",
       "</style>\n",
       "<table border=\"1\" class=\"dataframe\">\n",
       "  <thead>\n",
       "    <tr style=\"text-align: right;\">\n",
       "      <th></th>\n",
       "      <th>index</th>\n",
       "      <th>submission_id</th>\n",
       "      <th>submission_date</th>\n",
       "      <th>gender</th>\n",
       "      <th>age</th>\n",
       "      <th>geography</th>\n",
       "      <th>financial_situation</th>\n",
       "      <th>education</th>\n",
       "      <th>employment_status</th>\n",
       "      <th>submission_state</th>\n",
       "      <th>...</th>\n",
       "      <th>help_from_others_in_country_7days</th>\n",
       "      <th>help_from_others_outside_country_7days</th>\n",
       "      <th>spend_food_savings_7days</th>\n",
       "      <th>sell_or_exchange_property_7days</th>\n",
       "      <th>work_in_exchange_for_food_7days</th>\n",
       "      <th>food_purchased_7days</th>\n",
       "      <th>food_purchased_from_7days</th>\n",
       "      <th>food_transferred_7days</th>\n",
       "      <th>avg_distance_traveled_for_food_7days</th>\n",
       "      <th>head_household</th>\n",
       "    </tr>\n",
       "  </thead>\n",
       "  <tbody>\n",
       "    <tr>\n",
       "      <th>105681</th>\n",
       "      <td>105681</td>\n",
       "      <td>5589242121289728</td>\n",
       "      <td>2021-02-12</td>\n",
       "      <td>Female</td>\n",
       "      <td>26 to 35 years old</td>\n",
       "      <td>Suburban/Peri-urban</td>\n",
       "      <td>I can afford food and regular expenses, but no...</td>\n",
       "      <td>Technical school diploma or degree completed</td>\n",
       "      <td>I am unemployed</td>\n",
       "      <td>Anzoátegui</td>\n",
       "      <td>...</td>\n",
       "      <td>0.0</td>\n",
       "      <td>0.0</td>\n",
       "      <td>6.0</td>\n",
       "      <td>1.0</td>\n",
       "      <td>1.0</td>\n",
       "      <td>4</td>\n",
       "      <td>Market^Supermarket</td>\n",
       "      <td>Other</td>\n",
       "      <td>.5-1 kilometer</td>\n",
       "      <td>Yes</td>\n",
       "    </tr>\n",
       "    <tr>\n",
       "      <th>105682</th>\n",
       "      <td>105682</td>\n",
       "      <td>6064255901368320</td>\n",
       "      <td>2020-12-10</td>\n",
       "      <td>Female</td>\n",
       "      <td>26 to 35 years old</td>\n",
       "      <td>Suburban/Peri-urban</td>\n",
       "      <td>I can afford food and regular expenses, but no...</td>\n",
       "      <td>Technical school diploma or degree completed</td>\n",
       "      <td>I am unemployed</td>\n",
       "      <td>Anzoátegui</td>\n",
       "      <td>...</td>\n",
       "      <td>0.0</td>\n",
       "      <td>0.0</td>\n",
       "      <td>4.0</td>\n",
       "      <td>2.0</td>\n",
       "      <td>3.0</td>\n",
       "      <td>3</td>\n",
       "      <td>Grocery store</td>\n",
       "      <td>On foot</td>\n",
       "      <td>.5-1 kilometer</td>\n",
       "      <td>Yes</td>\n",
       "    </tr>\n",
       "  </tbody>\n",
       "</table>\n",
       "<p>2 rows × 36 columns</p>\n",
       "</div>"
      ],
      "text/plain": [
       "         index     submission_id submission_date  gender                 age  \\\n",
       "105681  105681  5589242121289728      2021-02-12  Female  26 to 35 years old   \n",
       "105682  105682  6064255901368320      2020-12-10  Female  26 to 35 years old   \n",
       "\n",
       "                  geography  \\\n",
       "105681  Suburban/Peri-urban   \n",
       "105682  Suburban/Peri-urban   \n",
       "\n",
       "                                      financial_situation  \\\n",
       "105681  I can afford food and regular expenses, but no...   \n",
       "105682  I can afford food and regular expenses, but no...   \n",
       "\n",
       "                                           education employment_status  \\\n",
       "105681  Technical school diploma or degree completed   I am unemployed   \n",
       "105682  Technical school diploma or degree completed   I am unemployed   \n",
       "\n",
       "       submission_state  ...  help_from_others_in_country_7days  \\\n",
       "105681       Anzoátegui  ...                                0.0   \n",
       "105682       Anzoátegui  ...                                0.0   \n",
       "\n",
       "        help_from_others_outside_country_7days  spend_food_savings_7days  \\\n",
       "105681                                     0.0                       6.0   \n",
       "105682                                     0.0                       4.0   \n",
       "\n",
       "        sell_or_exchange_property_7days  work_in_exchange_for_food_7days  \\\n",
       "105681                              1.0                              1.0   \n",
       "105682                              2.0                              3.0   \n",
       "\n",
       "        food_purchased_7days  food_purchased_from_7days  \\\n",
       "105681                     4         Market^Supermarket   \n",
       "105682                     3              Grocery store   \n",
       "\n",
       "        food_transferred_7days  avg_distance_traveled_for_food_7days  \\\n",
       "105681                   Other                        .5-1 kilometer   \n",
       "105682                 On foot                        .5-1 kilometer   \n",
       "\n",
       "        head_household  \n",
       "105681             Yes  \n",
       "105682             Yes  \n",
       "\n",
       "[2 rows x 36 columns]"
      ]
     },
     "execution_count": 16,
     "metadata": {},
     "output_type": "execute_result"
    }
   ],
   "source": [
    "mergedDataset.tail(2)"
   ]
  },
  {
   "cell_type": "code",
   "execution_count": 17,
   "id": "ed9a11ae-d8b2-496a-a059-45863c9bb56d",
   "metadata": {
    "tags": []
   },
   "outputs": [
    {
     "name": "stdout",
     "output_type": "stream",
     "text": [
      "<class 'pandas.core.frame.DataFrame'>\n",
      "RangeIndex: 105683 entries, 0 to 105682\n",
      "Data columns (total 36 columns):\n",
      " #   Column                                      Non-Null Count   Dtype  \n",
      "---  ------                                      --------------   -----  \n",
      " 0   index                                       105683 non-null  int64  \n",
      " 1   submission_id                               105683 non-null  int64  \n",
      " 2   submission_date                             105683 non-null  object \n",
      " 3   gender                                      105683 non-null  object \n",
      " 4   age                                         105683 non-null  object \n",
      " 5   geography                                   105683 non-null  object \n",
      " 6   financial_situation                         105683 non-null  object \n",
      " 7   education                                   105683 non-null  object \n",
      " 8   employment_status                           105683 non-null  object \n",
      " 9   submission_state                            105683 non-null  object \n",
      " 10  cereals_plantains_tubers_7days              105683 non-null  int64  \n",
      " 11  vegs_7days                                  105683 non-null  int64  \n",
      " 12  fruits_7days                                105683 non-null  int64  \n",
      " 13  meat_eggs_seafood_7days                     105683 non-null  int64  \n",
      " 14  grains_7days                                105683 non-null  int64  \n",
      " 15  dairy_7days                                 105683 non-null  int64  \n",
      " 16  oils_fats_7days                             105683 non-null  int64  \n",
      " 17  sugars_7days                                105683 non-null  int64  \n",
      " 18  cheap_food_7days                            105462 non-null  float64\n",
      " 19  skip_food_7days                             105462 non-null  float64\n",
      " 20  portion_reduction_7days                     105462 non-null  float64\n",
      " 21  adult_reduction_7days                       105462 non-null  float64\n",
      " 22  eaten_one_time_or_not_eaten_7days           105462 non-null  float64\n",
      " 23  non_adult_sent_to_eat_somewhere_else_7days  105462 non-null  float64\n",
      " 24  adult_sent_to_eat_somewhere_else_7days      105462 non-null  float64\n",
      " 25  borrowed_food_7days                         105462 non-null  float64\n",
      " 26  help_from_others_in_country_7days           105462 non-null  float64\n",
      " 27  help_from_others_outside_country_7days      105462 non-null  float64\n",
      " 28  spend_food_savings_7days                    105462 non-null  float64\n",
      " 29  sell_or_exchange_property_7days             105462 non-null  float64\n",
      " 30  work_in_exchange_for_food_7days             105462 non-null  float64\n",
      " 31  food_purchased_7days                        105683 non-null  int64  \n",
      " 32  food_purchased_from_7days                   105683 non-null  object \n",
      " 33  food_transferred_7days                      105682 non-null  object \n",
      " 34  avg_distance_traveled_for_food_7days        105683 non-null  object \n",
      " 35  head_household                              105671 non-null  object \n",
      "dtypes: float64(13), int64(11), object(12)\n",
      "memory usage: 29.0+ MB\n"
     ]
    }
   ],
   "source": [
    "#couple of other general looks in case something else jumps out\n",
    "mergedDataset.info()"
   ]
  },
  {
   "cell_type": "code",
   "execution_count": 18,
   "id": "145c57db-c79a-4a08-a29a-c8788c2e8a03",
   "metadata": {},
   "outputs": [
    {
     "data": {
      "text/plain": [
       "index                                           int64\n",
       "submission_id                                   int64\n",
       "submission_date                                object\n",
       "gender                                         object\n",
       "age                                            object\n",
       "geography                                      object\n",
       "financial_situation                            object\n",
       "education                                      object\n",
       "employment_status                              object\n",
       "submission_state                               object\n",
       "cereals_plantains_tubers_7days                  int64\n",
       "vegs_7days                                      int64\n",
       "fruits_7days                                    int64\n",
       "meat_eggs_seafood_7days                         int64\n",
       "grains_7days                                    int64\n",
       "dairy_7days                                     int64\n",
       "oils_fats_7days                                 int64\n",
       "sugars_7days                                    int64\n",
       "cheap_food_7days                              float64\n",
       "skip_food_7days                               float64\n",
       "portion_reduction_7days                       float64\n",
       "adult_reduction_7days                         float64\n",
       "eaten_one_time_or_not_eaten_7days             float64\n",
       "non_adult_sent_to_eat_somewhere_else_7days    float64\n",
       "adult_sent_to_eat_somewhere_else_7days        float64\n",
       "borrowed_food_7days                           float64\n",
       "help_from_others_in_country_7days             float64\n",
       "help_from_others_outside_country_7days        float64\n",
       "spend_food_savings_7days                      float64\n",
       "sell_or_exchange_property_7days               float64\n",
       "work_in_exchange_for_food_7days               float64\n",
       "food_purchased_7days                            int64\n",
       "food_purchased_from_7days                      object\n",
       "food_transferred_7days                         object\n",
       "avg_distance_traveled_for_food_7days           object\n",
       "head_household                                 object\n",
       "dtype: object"
      ]
     },
     "execution_count": 18,
     "metadata": {},
     "output_type": "execute_result"
    }
   ],
   "source": [
    "mergedDataset.dtypes"
   ]
  },
  {
   "cell_type": "code",
   "execution_count": 19,
   "id": "cb508128-02f7-4fae-84e9-3d5bf65a7bb1",
   "metadata": {},
   "outputs": [
    {
     "data": {
      "text/plain": [
       "<bound method NDFrame.describe of          index     submission_id submission_date  gender                 age  \\\n",
       "0            0  5308575264276480      2020-06-10    Male  26 to 35 years old   \n",
       "1            1  6044576395821056      2020-05-29    Male  26 to 35 years old   \n",
       "2            2  5276904125104128      2020-06-17    Male  26 to 35 years old   \n",
       "3            3  4779185967202304      2020-06-07    Male  26 to 35 years old   \n",
       "4            4  6647452620029952      2020-07-23    Male       Not Available   \n",
       "...        ...               ...             ...     ...                 ...   \n",
       "105678  105678  6205887386746880      2021-01-29  Female  26 to 35 years old   \n",
       "105679  105679  5071560737292288      2021-01-14  Female  26 to 35 years old   \n",
       "105680  105680  5690296353685504      2020-12-17  Female  26 to 35 years old   \n",
       "105681  105681  5589242121289728      2021-02-12  Female  26 to 35 years old   \n",
       "105682  105682  6064255901368320      2020-12-10  Female  26 to 35 years old   \n",
       "\n",
       "                  geography  \\\n",
       "0       Suburban/Peri-urban   \n",
       "1       Suburban/Peri-urban   \n",
       "2       Suburban/Peri-urban   \n",
       "3       Suburban/Peri-urban   \n",
       "4       Suburban/Peri-urban   \n",
       "...                     ...   \n",
       "105678  Suburban/Peri-urban   \n",
       "105679  Suburban/Peri-urban   \n",
       "105680  Suburban/Peri-urban   \n",
       "105681  Suburban/Peri-urban   \n",
       "105682  Suburban/Peri-urban   \n",
       "\n",
       "                                      financial_situation  \\\n",
       "0                     I can afford food, but nothing else   \n",
       "1                     I can afford food, but nothing else   \n",
       "2                     I can afford food, but nothing else   \n",
       "3                     I can afford food, but nothing else   \n",
       "4                     I can afford food, but nothing else   \n",
       "...                                                   ...   \n",
       "105678  I can afford food and regular expenses, but no...   \n",
       "105679  I can afford food and regular expenses, but no...   \n",
       "105680  I can afford food and regular expenses, but no...   \n",
       "105681  I can afford food and regular expenses, but no...   \n",
       "105682  I can afford food and regular expenses, but no...   \n",
       "\n",
       "                                           education  \\\n",
       "0             University or college degree completed   \n",
       "1             University or college degree completed   \n",
       "2             University or college degree completed   \n",
       "3             University or college degree completed   \n",
       "4                              College or university   \n",
       "...                                              ...   \n",
       "105678  Technical school diploma or degree completed   \n",
       "105679  Technical school diploma or degree completed   \n",
       "105680  Technical school diploma or degree completed   \n",
       "105681  Technical school diploma or degree completed   \n",
       "105682  Technical school diploma or degree completed   \n",
       "\n",
       "                               employment_status submission_state  ...  \\\n",
       "0       I am doing community or military service    Nueva Esparta  ...   \n",
       "1       I am doing community or military service    Nueva Esparta  ...   \n",
       "2       I am doing community or military service    Nueva Esparta  ...   \n",
       "3       I am doing community or military service    Nueva Esparta  ...   \n",
       "4                                        Student            Zulia  ...   \n",
       "...                                          ...              ...  ...   \n",
       "105678                           I am unemployed       Anzoátegui  ...   \n",
       "105679                           I am unemployed       Anzoátegui  ...   \n",
       "105680                           I am unemployed       Anzoátegui  ...   \n",
       "105681                           I am unemployed       Anzoátegui  ...   \n",
       "105682                           I am unemployed       Anzoátegui  ...   \n",
       "\n",
       "        help_from_others_in_country_7days  \\\n",
       "0                                     0.0   \n",
       "1                                     0.0   \n",
       "2                                     0.0   \n",
       "3                                     0.0   \n",
       "4                                     0.0   \n",
       "...                                   ...   \n",
       "105678                                0.0   \n",
       "105679                                0.0   \n",
       "105680                                0.0   \n",
       "105681                                0.0   \n",
       "105682                                0.0   \n",
       "\n",
       "        help_from_others_outside_country_7days  spend_food_savings_7days  \\\n",
       "0                                          0.0                       3.0   \n",
       "1                                          0.0                       2.0   \n",
       "2                                          0.0                       3.0   \n",
       "3                                          0.0                       2.0   \n",
       "4                                          0.0                       7.0   \n",
       "...                                        ...                       ...   \n",
       "105678                                     0.0                       7.0   \n",
       "105679                                     0.0                       7.0   \n",
       "105680                                     0.0                       7.0   \n",
       "105681                                     0.0                       6.0   \n",
       "105682                                     0.0                       4.0   \n",
       "\n",
       "        sell_or_exchange_property_7days  work_in_exchange_for_food_7days  \\\n",
       "0                                   0.0                              4.0   \n",
       "1                                   1.0                              1.0   \n",
       "2                                   0.0                              2.0   \n",
       "3                                   1.0                              3.0   \n",
       "4                                   3.0                              2.0   \n",
       "...                                 ...                              ...   \n",
       "105678                              1.0                              1.0   \n",
       "105679                              1.0                              1.0   \n",
       "105680                              2.0                              1.0   \n",
       "105681                              1.0                              1.0   \n",
       "105682                              2.0                              3.0   \n",
       "\n",
       "        food_purchased_7days          food_purchased_from_7days  \\\n",
       "0                          3  Butcher shop^Grocery store^Market   \n",
       "1                          1                             Market   \n",
       "2                          2  Butcher shop^Grocery store^Market   \n",
       "3                          2  Butcher shop^Grocery store^Market   \n",
       "4                          3                             Market   \n",
       "...                      ...                                ...   \n",
       "105678                     4  Butcher shop^Grocery store^Market   \n",
       "105679                     3                      Grocery store   \n",
       "105680                     6                      Grocery store   \n",
       "105681                     4                 Market^Supermarket   \n",
       "105682                     3                      Grocery store   \n",
       "\n",
       "        food_transferred_7days  avg_distance_traveled_for_food_7days  \\\n",
       "0              Bicycle^On foot                        .5-1 kilometer   \n",
       "1                      On foot                        .5-1 kilometer   \n",
       "2                      On foot                        .5-1 kilometer   \n",
       "3                      On foot                        .5-1 kilometer   \n",
       "4                      On foot                        3-5 kilometers   \n",
       "...                        ...                                   ...   \n",
       "105678                 On foot                        .5-1 kilometer   \n",
       "105679                 On foot                        .5-1 kilometer   \n",
       "105680                 On foot                        .5-1 kilometer   \n",
       "105681                   Other                        .5-1 kilometer   \n",
       "105682                 On foot                        .5-1 kilometer   \n",
       "\n",
       "        head_household  \n",
       "0                  Yes  \n",
       "1                  Yes  \n",
       "2                  Yes  \n",
       "3                  Yes  \n",
       "4                   No  \n",
       "...                ...  \n",
       "105678             Yes  \n",
       "105679             Yes  \n",
       "105680             Yes  \n",
       "105681             Yes  \n",
       "105682             Yes  \n",
       "\n",
       "[105683 rows x 36 columns]>"
      ]
     },
     "execution_count": 19,
     "metadata": {},
     "output_type": "execute_result"
    }
   ],
   "source": [
    "mergedDataset.describe"
   ]
  },
  {
   "cell_type": "code",
   "execution_count": 20,
   "id": "52bfed14-4336-48c2-b794-cff4c38ed742",
   "metadata": {},
   "outputs": [
    {
     "data": {
      "text/plain": [
       "Index(['index', 'submission_id', 'submission_date', 'gender', 'age',\n",
       "       'geography', 'financial_situation', 'education', 'employment_status',\n",
       "       'submission_state', 'cereals_plantains_tubers_7days', 'vegs_7days',\n",
       "       'fruits_7days', 'meat_eggs_seafood_7days', 'grains_7days',\n",
       "       'dairy_7days', 'oils_fats_7days', 'sugars_7days', 'cheap_food_7days',\n",
       "       'skip_food_7days', 'portion_reduction_7days', 'adult_reduction_7days',\n",
       "       'eaten_one_time_or_not_eaten_7days',\n",
       "       'non_adult_sent_to_eat_somewhere_else_7days',\n",
       "       'adult_sent_to_eat_somewhere_else_7days', 'borrowed_food_7days',\n",
       "       'help_from_others_in_country_7days',\n",
       "       'help_from_others_outside_country_7days', 'spend_food_savings_7days',\n",
       "       'sell_or_exchange_property_7days', 'work_in_exchange_for_food_7days',\n",
       "       'food_purchased_7days', 'food_purchased_from_7days',\n",
       "       'food_transferred_7days', 'avg_distance_traveled_for_food_7days',\n",
       "       'head_household'],\n",
       "      dtype='object')"
      ]
     },
     "execution_count": 20,
     "metadata": {},
     "output_type": "execute_result"
    }
   ],
   "source": [
    "mergedDataset.columns"
   ]
  },
  {
   "cell_type": "markdown",
   "id": "b590aef5-75ea-4cb1-8a73-5b6f164e45d3",
   "metadata": {
    "tags": []
   },
   "source": [
    "***V AN EXAMPLE OF SLICING- HOW COULD I SLICE OUT ONLY FCS RELATED COLUMNS IF I NEEDED TO (not necessary for the analysis, in fact later I will be looking at relations with other variables)"
   ]
  },
  {
   "cell_type": "code",
   "execution_count": 21,
   "id": "f998aa74-8543-456f-86f7-c851a3b28735",
   "metadata": {},
   "outputs": [],
   "source": [
    "only_FCScol=mergedDataset.loc [:, [\"cereals_plantains_tubers_7days\", \"vegs_7days\",\"fruits_7days\", \"meat_eggs_seafood_7days\", \"grains_7days\",\"dairy_7days\", \"oils_fats_7days\", \"sugars_7days\"]]"
   ]
  },
  {
   "cell_type": "code",
   "execution_count": 22,
   "id": "b128123f-514c-4879-8eaf-669cdabc1148",
   "metadata": {},
   "outputs": [
    {
     "data": {
      "text/html": [
       "<div>\n",
       "<style scoped>\n",
       "    .dataframe tbody tr th:only-of-type {\n",
       "        vertical-align: middle;\n",
       "    }\n",
       "\n",
       "    .dataframe tbody tr th {\n",
       "        vertical-align: top;\n",
       "    }\n",
       "\n",
       "    .dataframe thead th {\n",
       "        text-align: right;\n",
       "    }\n",
       "</style>\n",
       "<table border=\"1\" class=\"dataframe\">\n",
       "  <thead>\n",
       "    <tr style=\"text-align: right;\">\n",
       "      <th></th>\n",
       "      <th>cereals_plantains_tubers_7days</th>\n",
       "      <th>vegs_7days</th>\n",
       "      <th>fruits_7days</th>\n",
       "      <th>meat_eggs_seafood_7days</th>\n",
       "      <th>grains_7days</th>\n",
       "      <th>dairy_7days</th>\n",
       "      <th>oils_fats_7days</th>\n",
       "      <th>sugars_7days</th>\n",
       "    </tr>\n",
       "  </thead>\n",
       "  <tbody>\n",
       "    <tr>\n",
       "      <th>0</th>\n",
       "      <td>1</td>\n",
       "      <td>4</td>\n",
       "      <td>2</td>\n",
       "      <td>3</td>\n",
       "      <td>4</td>\n",
       "      <td>1</td>\n",
       "      <td>5</td>\n",
       "      <td>6</td>\n",
       "    </tr>\n",
       "    <tr>\n",
       "      <th>1</th>\n",
       "      <td>2</td>\n",
       "      <td>5</td>\n",
       "      <td>1</td>\n",
       "      <td>3</td>\n",
       "      <td>4</td>\n",
       "      <td>0</td>\n",
       "      <td>5</td>\n",
       "      <td>7</td>\n",
       "    </tr>\n",
       "    <tr>\n",
       "      <th>2</th>\n",
       "      <td>4</td>\n",
       "      <td>4</td>\n",
       "      <td>2</td>\n",
       "      <td>5</td>\n",
       "      <td>4</td>\n",
       "      <td>3</td>\n",
       "      <td>0</td>\n",
       "      <td>3</td>\n",
       "    </tr>\n",
       "    <tr>\n",
       "      <th>3</th>\n",
       "      <td>2</td>\n",
       "      <td>3</td>\n",
       "      <td>2</td>\n",
       "      <td>6</td>\n",
       "      <td>6</td>\n",
       "      <td>4</td>\n",
       "      <td>5</td>\n",
       "      <td>7</td>\n",
       "    </tr>\n",
       "    <tr>\n",
       "      <th>4</th>\n",
       "      <td>7</td>\n",
       "      <td>3</td>\n",
       "      <td>1</td>\n",
       "      <td>3</td>\n",
       "      <td>0</td>\n",
       "      <td>0</td>\n",
       "      <td>4</td>\n",
       "      <td>0</td>\n",
       "    </tr>\n",
       "    <tr>\n",
       "      <th>...</th>\n",
       "      <td>...</td>\n",
       "      <td>...</td>\n",
       "      <td>...</td>\n",
       "      <td>...</td>\n",
       "      <td>...</td>\n",
       "      <td>...</td>\n",
       "      <td>...</td>\n",
       "      <td>...</td>\n",
       "    </tr>\n",
       "    <tr>\n",
       "      <th>105678</th>\n",
       "      <td>7</td>\n",
       "      <td>5</td>\n",
       "      <td>3</td>\n",
       "      <td>2</td>\n",
       "      <td>5</td>\n",
       "      <td>5</td>\n",
       "      <td>6</td>\n",
       "      <td>7</td>\n",
       "    </tr>\n",
       "    <tr>\n",
       "      <th>105679</th>\n",
       "      <td>6</td>\n",
       "      <td>1</td>\n",
       "      <td>1</td>\n",
       "      <td>5</td>\n",
       "      <td>4</td>\n",
       "      <td>5</td>\n",
       "      <td>7</td>\n",
       "      <td>3</td>\n",
       "    </tr>\n",
       "    <tr>\n",
       "      <th>105680</th>\n",
       "      <td>6</td>\n",
       "      <td>5</td>\n",
       "      <td>1</td>\n",
       "      <td>6</td>\n",
       "      <td>1</td>\n",
       "      <td>7</td>\n",
       "      <td>7</td>\n",
       "      <td>6</td>\n",
       "    </tr>\n",
       "    <tr>\n",
       "      <th>105681</th>\n",
       "      <td>7</td>\n",
       "      <td>5</td>\n",
       "      <td>2</td>\n",
       "      <td>4</td>\n",
       "      <td>3</td>\n",
       "      <td>6</td>\n",
       "      <td>5</td>\n",
       "      <td>7</td>\n",
       "    </tr>\n",
       "    <tr>\n",
       "      <th>105682</th>\n",
       "      <td>2</td>\n",
       "      <td>2</td>\n",
       "      <td>1</td>\n",
       "      <td>0</td>\n",
       "      <td>2</td>\n",
       "      <td>1</td>\n",
       "      <td>4</td>\n",
       "      <td>1</td>\n",
       "    </tr>\n",
       "  </tbody>\n",
       "</table>\n",
       "<p>105683 rows × 8 columns</p>\n",
       "</div>"
      ],
      "text/plain": [
       "        cereals_plantains_tubers_7days  vegs_7days  fruits_7days  \\\n",
       "0                                    1           4             2   \n",
       "1                                    2           5             1   \n",
       "2                                    4           4             2   \n",
       "3                                    2           3             2   \n",
       "4                                    7           3             1   \n",
       "...                                ...         ...           ...   \n",
       "105678                               7           5             3   \n",
       "105679                               6           1             1   \n",
       "105680                               6           5             1   \n",
       "105681                               7           5             2   \n",
       "105682                               2           2             1   \n",
       "\n",
       "        meat_eggs_seafood_7days  grains_7days  dairy_7days  oils_fats_7days  \\\n",
       "0                             3             4            1                5   \n",
       "1                             3             4            0                5   \n",
       "2                             5             4            3                0   \n",
       "3                             6             6            4                5   \n",
       "4                             3             0            0                4   \n",
       "...                         ...           ...          ...              ...   \n",
       "105678                        2             5            5                6   \n",
       "105679                        5             4            5                7   \n",
       "105680                        6             1            7                7   \n",
       "105681                        4             3            6                5   \n",
       "105682                        0             2            1                4   \n",
       "\n",
       "        sugars_7days  \n",
       "0                  6  \n",
       "1                  7  \n",
       "2                  3  \n",
       "3                  7  \n",
       "4                  0  \n",
       "...              ...  \n",
       "105678             7  \n",
       "105679             3  \n",
       "105680             6  \n",
       "105681             7  \n",
       "105682             1  \n",
       "\n",
       "[105683 rows x 8 columns]"
      ]
     },
     "execution_count": 22,
     "metadata": {},
     "output_type": "execute_result"
    }
   ],
   "source": [
    "only_FCScol"
   ]
  },
  {
   "cell_type": "code",
   "execution_count": 23,
   "id": "17ebb57f-3df0-4e85-8179-a0216da84fcc",
   "metadata": {},
   "outputs": [
    {
     "data": {
      "text/plain": [
       "cereals_plantains_tubers_7days    int64\n",
       "vegs_7days                        int64\n",
       "fruits_7days                      int64\n",
       "meat_eggs_seafood_7days           int64\n",
       "grains_7days                      int64\n",
       "dairy_7days                       int64\n",
       "oils_fats_7days                   int64\n",
       "sugars_7days                      int64\n",
       "dtype: object"
      ]
     },
     "execution_count": 23,
     "metadata": {},
     "output_type": "execute_result"
    }
   ],
   "source": [
    "only_FCScol.dtypes"
   ]
  },
  {
   "cell_type": "markdown",
   "id": "8c70e055-79bb-4d1d-ac7d-1db58c352ece",
   "metadata": {},
   "source": [
    "VI CALCULATING FULL FCS SCORE AND ADDING A NEW COLUMN WITH THE FCS SCORE RESULT TO THE DATAFRAME"
   ]
  },
  {
   "cell_type": "code",
   "execution_count": 24,
   "id": "207494af-d237-4b0a-9340-5e32ed48676f",
   "metadata": {},
   "outputs": [],
   "source": [
    "# a sum of 8 standard food groups multiplied by standard weights (where applicable)- see report for indicator definition"
   ]
  },
  {
   "cell_type": "markdown",
   "id": "3ad9d3a5-aeaa-43a0-97ee-18602824615a",
   "metadata": {},
   "source": [
    "FUNCTION DEFINITION"
   ]
  },
  {
   "cell_type": "code",
   "execution_count": 25,
   "id": "2c19eb5f-054d-4add-90f0-5da19e59841b",
   "metadata": {},
   "outputs": [],
   "source": [
    "def FCS_calculation(df):\n",
    "    full_FCS = df['cereals_plantains_tubers_7days']*2 + df['vegs_7days'] + df['fruits_7days']+ df['meat_eggs_seafood_7days']*4 + df ['grains_7days']*3 + df['dairy_7days']* 4 + df['oils_fats_7days']*0.5 + df['sugars_7days']*0.5\n",
    "    return full_FCS"
   ]
  },
  {
   "cell_type": "markdown",
   "id": "dadf80aa-5dec-4554-853b-1b1b36b42484",
   "metadata": {},
   "source": [
    "APPLY FUNCTION"
   ]
  },
  {
   "cell_type": "code",
   "execution_count": 26,
   "id": "8c40f1a5-df5c-4a1f-8389-fb9b48bd95ad",
   "metadata": {},
   "outputs": [
    {
     "data": {
      "text/plain": [
       "0         41.5\n",
       "1         40.0\n",
       "2         59.5\n",
       "3         73.0\n",
       "4         32.0\n",
       "          ... \n",
       "105678    71.5\n",
       "105679    71.0\n",
       "105680    79.5\n",
       "105681    76.0\n",
       "105682    19.5\n",
       "Length: 105683, dtype: float64"
      ]
     },
     "execution_count": 26,
     "metadata": {},
     "output_type": "execute_result"
    }
   ],
   "source": [
    "mergedDataset.apply(FCS_calculation, axis=1)"
   ]
  },
  {
   "cell_type": "markdown",
   "id": "f81a2d52-8f89-4592-9aa2-ddb7481c6d3d",
   "metadata": {},
   "source": [
    "ADD THE NEW COLUMN WITH THE RESULT"
   ]
  },
  {
   "cell_type": "code",
   "execution_count": 27,
   "id": "e5f24dcb-9d96-4949-a3c8-91fbb126d4e0",
   "metadata": {},
   "outputs": [],
   "source": [
    "mergedDataset['FCS_calculation']=mergedDataset.apply(FCS_calculation, axis=1)"
   ]
  },
  {
   "cell_type": "code",
   "execution_count": 28,
   "id": "977f51de-4ddb-42e8-bd32-9c1e056c973c",
   "metadata": {},
   "outputs": [
    {
     "data": {
      "text/plain": [
       "0"
      ]
     },
     "execution_count": 28,
     "metadata": {},
     "output_type": "execute_result"
    }
   ],
   "source": [
    "#check if calculated for all records\n",
    "missing_values=mergedDataset['FCS_calculation'].isnull().sum()\n",
    "missing_values"
   ]
  },
  {
   "cell_type": "code",
   "execution_count": 29,
   "id": "0cdfcae9-f062-43d2-a753-6e1e9d284ec1",
   "metadata": {},
   "outputs": [],
   "source": [
    "#I kind of knew that already from 'mergedDataset.isna().sum()/len(mergedDataset) * 100' earlier but wanted to check if the fucntion works and that I have not messed up sth since "
   ]
  },
  {
   "cell_type": "markdown",
   "id": "0c301e2a-bfd5-4f6f-b722-02a7e4164081",
   "metadata": {},
   "source": [
    "VI CATEGORIZE FCS INTO 3 STANDARD THRESHOLD CATEGORIES:\n",
    "•\t<21.5: Poor \n",
    "•\t21.5>= and <35: Borderline \n",
    "•\t35>=: Acceptable"
   ]
  },
  {
   "cell_type": "code",
   "execution_count": 30,
   "id": "c566d95d-a1b7-4744-b8ee-ac47155069ce",
   "metadata": {},
   "outputs": [],
   "source": [
    "#add a new column with the FCS category next to the FCS raw score in the dataframe\n",
    "category=pd.cut(mergedDataset.FCS_calculation,bins=[0,21.5,35,113], right=False, labels=['FCS Poor', 'FCS Borderline','FCS Acceptable'])\n",
    "mergedDataset.insert(36,'FCS_category', category)"
   ]
  },
  {
   "cell_type": "code",
   "execution_count": 31,
   "id": "e2df5893-8153-40ad-ba88-0630ff3c232c",
   "metadata": {},
   "outputs": [
    {
     "data": {
      "text/plain": [
       "FCS Acceptable    80365\n",
       "FCS Borderline    15648\n",
       "FCS Poor           9670\n",
       "Name: FCS_category, dtype: int64"
      ]
     },
     "execution_count": 31,
     "metadata": {},
     "output_type": "execute_result"
    }
   ],
   "source": [
    "#count the frequencies of each category \n",
    "mergedDataset['FCS_category'].value_counts()"
   ]
  },
  {
   "cell_type": "code",
   "execution_count": 32,
   "id": "e2a161a4-2473-4902-8c63-a15de4aa7aac",
   "metadata": {},
   "outputs": [
    {
     "data": {
      "text/html": [
       "<div>\n",
       "<style scoped>\n",
       "    .dataframe tbody tr th:only-of-type {\n",
       "        vertical-align: middle;\n",
       "    }\n",
       "\n",
       "    .dataframe tbody tr th {\n",
       "        vertical-align: top;\n",
       "    }\n",
       "\n",
       "    .dataframe thead th {\n",
       "        text-align: right;\n",
       "    }\n",
       "</style>\n",
       "<table border=\"1\" class=\"dataframe\">\n",
       "  <thead>\n",
       "    <tr style=\"text-align: right;\">\n",
       "      <th></th>\n",
       "      <th>index</th>\n",
       "      <th>submission_id</th>\n",
       "      <th>submission_date</th>\n",
       "      <th>gender</th>\n",
       "      <th>age</th>\n",
       "      <th>geography</th>\n",
       "      <th>financial_situation</th>\n",
       "      <th>education</th>\n",
       "      <th>employment_status</th>\n",
       "      <th>submission_state</th>\n",
       "      <th>...</th>\n",
       "      <th>spend_food_savings_7days</th>\n",
       "      <th>sell_or_exchange_property_7days</th>\n",
       "      <th>work_in_exchange_for_food_7days</th>\n",
       "      <th>food_purchased_7days</th>\n",
       "      <th>food_purchased_from_7days</th>\n",
       "      <th>food_transferred_7days</th>\n",
       "      <th>avg_distance_traveled_for_food_7days</th>\n",
       "      <th>head_household</th>\n",
       "      <th>FCS_category</th>\n",
       "      <th>FCS_calculation</th>\n",
       "    </tr>\n",
       "  </thead>\n",
       "  <tbody>\n",
       "    <tr>\n",
       "      <th>0</th>\n",
       "      <td>0</td>\n",
       "      <td>5308575264276480</td>\n",
       "      <td>2020-06-10</td>\n",
       "      <td>Male</td>\n",
       "      <td>26 to 35 years old</td>\n",
       "      <td>Suburban/Peri-urban</td>\n",
       "      <td>I can afford food, but nothing else</td>\n",
       "      <td>University or college degree completed</td>\n",
       "      <td>I am doing community or military service</td>\n",
       "      <td>Nueva Esparta</td>\n",
       "      <td>...</td>\n",
       "      <td>3.0</td>\n",
       "      <td>0.0</td>\n",
       "      <td>4.0</td>\n",
       "      <td>3</td>\n",
       "      <td>Butcher shop^Grocery store^Market</td>\n",
       "      <td>Bicycle^On foot</td>\n",
       "      <td>.5-1 kilometer</td>\n",
       "      <td>Yes</td>\n",
       "      <td>FCS Acceptable</td>\n",
       "      <td>41.5</td>\n",
       "    </tr>\n",
       "    <tr>\n",
       "      <th>1</th>\n",
       "      <td>1</td>\n",
       "      <td>6044576395821056</td>\n",
       "      <td>2020-05-29</td>\n",
       "      <td>Male</td>\n",
       "      <td>26 to 35 years old</td>\n",
       "      <td>Suburban/Peri-urban</td>\n",
       "      <td>I can afford food, but nothing else</td>\n",
       "      <td>University or college degree completed</td>\n",
       "      <td>I am doing community or military service</td>\n",
       "      <td>Nueva Esparta</td>\n",
       "      <td>...</td>\n",
       "      <td>2.0</td>\n",
       "      <td>1.0</td>\n",
       "      <td>1.0</td>\n",
       "      <td>1</td>\n",
       "      <td>Market</td>\n",
       "      <td>On foot</td>\n",
       "      <td>.5-1 kilometer</td>\n",
       "      <td>Yes</td>\n",
       "      <td>FCS Acceptable</td>\n",
       "      <td>40.0</td>\n",
       "    </tr>\n",
       "  </tbody>\n",
       "</table>\n",
       "<p>2 rows × 38 columns</p>\n",
       "</div>"
      ],
      "text/plain": [
       "   index     submission_id submission_date gender                 age  \\\n",
       "0      0  5308575264276480      2020-06-10   Male  26 to 35 years old   \n",
       "1      1  6044576395821056      2020-05-29   Male  26 to 35 years old   \n",
       "\n",
       "             geography                  financial_situation  \\\n",
       "0  Suburban/Peri-urban  I can afford food, but nothing else   \n",
       "1  Suburban/Peri-urban  I can afford food, but nothing else   \n",
       "\n",
       "                                education  \\\n",
       "0  University or college degree completed   \n",
       "1  University or college degree completed   \n",
       "\n",
       "                          employment_status submission_state  ...  \\\n",
       "0  I am doing community or military service    Nueva Esparta  ...   \n",
       "1  I am doing community or military service    Nueva Esparta  ...   \n",
       "\n",
       "   spend_food_savings_7days  sell_or_exchange_property_7days  \\\n",
       "0                       3.0                              0.0   \n",
       "1                       2.0                              1.0   \n",
       "\n",
       "   work_in_exchange_for_food_7days  food_purchased_7days  \\\n",
       "0                              4.0                     3   \n",
       "1                              1.0                     1   \n",
       "\n",
       "           food_purchased_from_7days  food_transferred_7days  \\\n",
       "0  Butcher shop^Grocery store^Market         Bicycle^On foot   \n",
       "1                             Market                 On foot   \n",
       "\n",
       "   avg_distance_traveled_for_food_7days  head_household    FCS_category  \\\n",
       "0                        .5-1 kilometer             Yes  FCS Acceptable   \n",
       "1                        .5-1 kilometer             Yes  FCS Acceptable   \n",
       "\n",
       "   FCS_calculation  \n",
       "0             41.5  \n",
       "1             40.0  \n",
       "\n",
       "[2 rows x 38 columns]"
      ]
     },
     "execution_count": 32,
     "metadata": {},
     "output_type": "execute_result"
    }
   ],
   "source": [
    "mergedDataset.head(2)"
   ]
  },
  {
   "cell_type": "code",
   "execution_count": 33,
   "id": "7007d0ab-9929-4450-80ae-369dabab2cd3",
   "metadata": {},
   "outputs": [
    {
     "name": "stdout",
     "output_type": "stream",
     "text": [
      "80365\n",
      "15648\n",
      "9670\n"
     ]
    }
   ],
   "source": [
    "#check if the frequencies correspond\n",
    "FCS_acceptable=mergedDataset[mergedDataset['FCS_calculation'] >=35]\n",
    "FCS_borderline=mergedDataset[(mergedDataset['FCS_calculation'] >=21.5) & (mergedDataset['FCS_calculation'] <35)]\n",
    "FCS_poor=mergedDataset[mergedDataset['FCS_calculation'] <21.5]\n",
    "print(len(FCS_acceptable))\n",
    "print(len(FCS_borderline))\n",
    "print(len(FCS_poor))"
   ]
  },
  {
   "cell_type": "markdown",
   "id": "870f6e4e-e2a7-4877-aa29-0197c167d7bf",
   "metadata": {},
   "source": [
    "VII ANALYSIS: EXPLORE THE FCS RAW SCORE RESULTS DATA WITH MEAN/MIN/MAX/MEDIAN/ST.DEV AND SOME INITIAL PIVOTS/GROUPING"
   ]
  },
  {
   "cell_type": "code",
   "execution_count": 34,
   "id": "9f3fa1ea-da1a-4443-9e6a-7f5696599565",
   "metadata": {},
   "outputs": [
    {
     "data": {
      "text/plain": [
       "0         41.5\n",
       "1         40.0\n",
       "2         59.5\n",
       "3         73.0\n",
       "4         32.0\n",
       "          ... \n",
       "105678    71.5\n",
       "105679    71.0\n",
       "105680    79.5\n",
       "105681    76.0\n",
       "105682    19.5\n",
       "Name: FCS_calculation, Length: 105683, dtype: float64"
      ]
     },
     "execution_count": 34,
     "metadata": {},
     "output_type": "execute_result"
    }
   ],
   "source": [
    "mergedDataset['FCS_calculation']"
   ]
  },
  {
   "cell_type": "code",
   "execution_count": 35,
   "id": "f1d91fe3-29b7-42e3-99fd-0bae9b322a18",
   "metadata": {},
   "outputs": [
    {
     "data": {
      "text/plain": [
       "count    105683.000000\n",
       "mean         55.010186\n",
       "std          25.022806\n",
       "min           0.000000\n",
       "25%          35.500000\n",
       "50%          54.000000\n",
       "75%          74.500000\n",
       "max         112.000000\n",
       "Name: FCS_calculation, dtype: float64"
      ]
     },
     "execution_count": 35,
     "metadata": {},
     "output_type": "execute_result"
    }
   ],
   "source": [
    "mergedDataset['FCS_calculation'].describe()"
   ]
  },
  {
   "cell_type": "code",
   "execution_count": 36,
   "id": "40d6f30f-d228-40b4-8773-5f1a50defad6",
   "metadata": {},
   "outputs": [
    {
     "data": {
      "text/plain": [
       "median    54.0\n",
       "Name: FCS_calculation, dtype: float64"
      ]
     },
     "execution_count": 36,
     "metadata": {},
     "output_type": "execute_result"
    }
   ],
   "source": [
    "mergedDataset.FCS_calculation.agg(['median'])"
   ]
  },
  {
   "cell_type": "code",
   "execution_count": 37,
   "id": "a51ca4fb-07d4-47a9-b2ca-001724d41c50",
   "metadata": {},
   "outputs": [
    {
     "data": {
      "text/plain": [
       "Text(0.5, 1.0, 'FCS raw score distribution')"
      ]
     },
     "execution_count": 37,
     "metadata": {},
     "output_type": "execute_result"
    },
    {
     "data": {
      "image/png": "[encoded data removed]",
      "text/plain": [
       "<Figure size 640x480 with 1 Axes>"
      ]
     },
     "metadata": {},
     "output_type": "display_data"
    }
   ],
   "source": [
    "sns.histplot(mergedDataset['FCS_calculation'], element='bars')\n",
    "plt.title('FCS raw score distribution')"
   ]
  },
  {
   "cell_type": "code",
   "execution_count": 38,
   "id": "f9729472-c85a-430a-9804-da142e60020b",
   "metadata": {},
   "outputs": [],
   "source": [
    "# INSIGHT: FCS IS NORMALLY DISTRIBUTED BUT ABNORMAL CLUSTERING AT THE MAX VALUE "
   ]
  },
  {
   "cell_type": "code",
   "execution_count": 39,
   "id": "555b29fe-6c6d-4c19-9d1c-a6adc1348bf4",
   "metadata": {},
   "outputs": [
    {
     "data": {
      "text/plain": [
       "Text(0.5, 1.0, 'FCS distribution per category')"
      ]
     },
     "execution_count": 39,
     "metadata": {},
     "output_type": "execute_result"
    },
    {
     "data": {
      "image/png": "[encoded data removed]",
      "text/plain": [
       "<Figure size 640x480 with 1 Axes>"
      ]
     },
     "metadata": {},
     "output_type": "display_data"
    }
   ],
   "source": [
    "sns.histplot(mergedDataset['FCS_category'], stat= 'percent')\n",
    "plt.title('FCS distribution per category')"
   ]
  },
  {
   "cell_type": "code",
   "execution_count": 40,
   "id": "9ef12b51-eb63-4921-9fad-552915356bab",
   "metadata": {},
   "outputs": [],
   "source": [
    "# INSIGHT: OVER 70% OF SURVEYED POPULATION MEETS THE 'ACCEPTABLE FCS' THRESHOLD (AGAINST THE MINIMIM 'SPHERE' STANDARD OF >42%) "
   ]
  },
  {
   "cell_type": "code",
   "execution_count": 41,
   "id": "29aaf910-8b59-4651-af8e-2bab49809e65",
   "metadata": {},
   "outputs": [
    {
     "data": {
      "text/plain": [
       "Male                    52624\n",
       "Female                  52541\n",
       "Prefer not to answer      476\n",
       "Non-Binary                 42\n",
       "Name: gender, dtype: int64"
      ]
     },
     "execution_count": 41,
     "metadata": {},
     "output_type": "execute_result"
    }
   ],
   "source": [
    "mergedDataset['gender'].value_counts()"
   ]
  },
  {
   "cell_type": "code",
   "execution_count": 42,
   "id": "a83657ab-0395-45e4-afeb-765685ad2306",
   "metadata": {},
   "outputs": [
    {
     "data": {
      "text/html": [
       "<div>\n",
       "<style scoped>\n",
       "    .dataframe tbody tr th:only-of-type {\n",
       "        vertical-align: middle;\n",
       "    }\n",
       "\n",
       "    .dataframe tbody tr th {\n",
       "        vertical-align: top;\n",
       "    }\n",
       "\n",
       "    .dataframe thead th {\n",
       "        text-align: right;\n",
       "    }\n",
       "</style>\n",
       "<table border=\"1\" class=\"dataframe\">\n",
       "  <thead>\n",
       "    <tr style=\"text-align: right;\">\n",
       "      <th></th>\n",
       "      <th>mean</th>\n",
       "      <th>median</th>\n",
       "      <th>std</th>\n",
       "    </tr>\n",
       "    <tr>\n",
       "      <th>gender</th>\n",
       "      <th></th>\n",
       "      <th></th>\n",
       "      <th></th>\n",
       "    </tr>\n",
       "  </thead>\n",
       "  <tbody>\n",
       "    <tr>\n",
       "      <th>Female</th>\n",
       "      <td>55.515788</td>\n",
       "      <td>55.0</td>\n",
       "      <td>24.654117</td>\n",
       "    </tr>\n",
       "    <tr>\n",
       "      <th>Male</th>\n",
       "      <td>54.550139</td>\n",
       "      <td>53.5</td>\n",
       "      <td>25.359873</td>\n",
       "    </tr>\n",
       "    <tr>\n",
       "      <th>Non-Binary</th>\n",
       "      <td>48.500000</td>\n",
       "      <td>46.0</td>\n",
       "      <td>13.139960</td>\n",
       "    </tr>\n",
       "    <tr>\n",
       "      <th>Prefer not to answer</th>\n",
       "      <td>50.636555</td>\n",
       "      <td>46.5</td>\n",
       "      <td>27.185818</td>\n",
       "    </tr>\n",
       "  </tbody>\n",
       "</table>\n",
       "</div>"
      ],
      "text/plain": [
       "                           mean  median        std\n",
       "gender                                            \n",
       "Female                55.515788    55.0  24.654117\n",
       "Male                  54.550139    53.5  25.359873\n",
       "Non-Binary            48.500000    46.0  13.139960\n",
       "Prefer not to answer  50.636555    46.5  27.185818"
      ]
     },
     "execution_count": 42,
     "metadata": {},
     "output_type": "execute_result"
    }
   ],
   "source": [
    "mergedDataset.groupby('gender')['FCS_calculation'].agg(['mean','median','std'])"
   ]
  },
  {
   "cell_type": "code",
   "execution_count": 43,
   "id": "94d5e837-9e60-4a85-bd95-a5dcdc7cb3d1",
   "metadata": {},
   "outputs": [
    {
     "data": {
      "text/plain": [
       "Text(0.5, 1.0, 'FCS categories by gender')"
      ]
     },
     "execution_count": 43,
     "metadata": {},
     "output_type": "execute_result"
    },
    {
     "data": {
      "image/png": "[encoded data removed]",
      "text/plain": [
       "<Figure size 640x480 with 1 Axes>"
      ]
     },
     "metadata": {},
     "output_type": "display_data"
    }
   ],
   "source": [
    "sns.set_palette(\"pastel\")\n",
    "sns.barplot(data=mergedDataset, y='FCS_calculation', x='FCS_category', hue='gender')\n",
    "plt.title('FCS categories by gender')"
   ]
  },
  {
   "cell_type": "code",
   "execution_count": 44,
   "id": "485ec120-aed7-4a49-b9a6-fa6a1ad14b48",
   "metadata": {},
   "outputs": [],
   "source": [
    "#INSIGHT: OVERALL THE SAMPLE IS GENDER BALANCED, THERE IS NO BIG VARIATION OF FCS AS A FUNCTION OF GENDER. ON AVERAGE RESULTS AMONG WOMEN ARE HIGHEST AND LOWEST AMONG NON BINARY. THE NON BINARY RESPONDENTS ARE UNDERREPRESENTD IN THE ACCEPTABLE FCS CATEGORY.  "
   ]
  },
  {
   "cell_type": "code",
   "execution_count": 45,
   "id": "1d5d61ec-f6cb-47d1-9196-2806f887dc6c",
   "metadata": {},
   "outputs": [
    {
     "data": {
      "text/html": [
       "<div>\n",
       "<style scoped>\n",
       "    .dataframe tbody tr th:only-of-type {\n",
       "        vertical-align: middle;\n",
       "    }\n",
       "\n",
       "    .dataframe tbody tr th {\n",
       "        vertical-align: top;\n",
       "    }\n",
       "\n",
       "    .dataframe thead th {\n",
       "        text-align: right;\n",
       "    }\n",
       "</style>\n",
       "<table border=\"1\" class=\"dataframe\">\n",
       "  <thead>\n",
       "    <tr style=\"text-align: right;\">\n",
       "      <th></th>\n",
       "      <th>mean</th>\n",
       "      <th>median</th>\n",
       "      <th>std</th>\n",
       "    </tr>\n",
       "    <tr>\n",
       "      <th>geography</th>\n",
       "      <th></th>\n",
       "      <th></th>\n",
       "      <th></th>\n",
       "    </tr>\n",
       "  </thead>\n",
       "  <tbody>\n",
       "    <tr>\n",
       "      <th>Suburban/Peri-urban</th>\n",
       "      <td>55.258102</td>\n",
       "      <td>55.0</td>\n",
       "      <td>24.598889</td>\n",
       "    </tr>\n",
       "    <tr>\n",
       "      <th>Rural</th>\n",
       "      <td>48.866210</td>\n",
       "      <td>46.0</td>\n",
       "      <td>25.195943</td>\n",
       "    </tr>\n",
       "    <tr>\n",
       "      <th>City center or metropolitan area</th>\n",
       "      <td>57.118070</td>\n",
       "      <td>57.0</td>\n",
       "      <td>24.863836</td>\n",
       "    </tr>\n",
       "  </tbody>\n",
       "</table>\n",
       "</div>"
      ],
      "text/plain": [
       "                                       mean  median        std\n",
       "geography                                                     \n",
       "Suburban/Peri-urban               55.258102    55.0  24.598889\n",
       "Rural                             48.866210    46.0  25.195943\n",
       "City center or metropolitan area  57.118070    57.0  24.863836"
      ]
     },
     "execution_count": 45,
     "metadata": {},
     "output_type": "execute_result"
    }
   ],
   "source": [
    "mergedDataset.groupby('geography', sort=False)['FCS_calculation'].agg(['mean','median','std'])"
   ]
  },
  {
   "cell_type": "code",
   "execution_count": 46,
   "id": "1d503191-311e-443e-890c-eb5b5d2a9cd3",
   "metadata": {},
   "outputs": [
    {
     "data": {
      "text/plain": [
       "Text(0.5, 1.0, 'FCS by type of location')"
      ]
     },
     "execution_count": 46,
     "metadata": {},
     "output_type": "execute_result"
    },
    {
     "data": {
      "image/png": "[encoded data removed]",
      "text/plain": [
       "<Figure size 640x480 with 1 Axes>"
      ]
     },
     "metadata": {},
     "output_type": "display_data"
    }
   ],
   "source": [
    "mergedDataset.groupby('geography', sort=False)['FCS_calculation'].agg(['mean','median']).plot.bar()\n",
    "plt.ylabel('Raw FCS score')\n",
    "plt.xticks(rotation=30)\n",
    "plt.title('FCS by type of location')"
   ]
  },
  {
   "cell_type": "code",
   "execution_count": 47,
   "id": "2c1eb370-1eb0-4cd5-b0cd-f409882834ae",
   "metadata": {},
   "outputs": [],
   "source": [
    "#INSIGHT: THE DISTRIBUTION OF FCS FOLLOWS A GEOGRAPHIC PATTERN AND THE AVERAGE THE FCS IS LOWEST IN RURAL AREAS AND HIGHEST IN CITIES OR METROPOLITAN AREAS"
   ]
  },
  {
   "cell_type": "code",
   "execution_count": 48,
   "id": "9db8b634-9f23-4714-823d-dba75f3ca3a2",
   "metadata": {},
   "outputs": [
    {
     "data": {
      "text/html": [
       "<div>\n",
       "<style scoped>\n",
       "    .dataframe tbody tr th:only-of-type {\n",
       "        vertical-align: middle;\n",
       "    }\n",
       "\n",
       "    .dataframe tbody tr th {\n",
       "        vertical-align: top;\n",
       "    }\n",
       "\n",
       "    .dataframe thead th {\n",
       "        text-align: right;\n",
       "    }\n",
       "</style>\n",
       "<table border=\"1\" class=\"dataframe\">\n",
       "  <thead>\n",
       "    <tr style=\"text-align: right;\">\n",
       "      <th></th>\n",
       "      <th>mean</th>\n",
       "      <th>median</th>\n",
       "    </tr>\n",
       "    <tr>\n",
       "      <th>avg_distance_traveled_for_food_7days</th>\n",
       "      <th></th>\n",
       "      <th></th>\n",
       "    </tr>\n",
       "  </thead>\n",
       "  <tbody>\n",
       "    <tr>\n",
       "      <th>.5-1 kilometer</th>\n",
       "      <td>54.550080</td>\n",
       "      <td>54.0</td>\n",
       "    </tr>\n",
       "    <tr>\n",
       "      <th>1-3 kilometers</th>\n",
       "      <td>53.655286</td>\n",
       "      <td>52.0</td>\n",
       "    </tr>\n",
       "    <tr>\n",
       "      <th>3-5 kilometers</th>\n",
       "      <td>55.149593</td>\n",
       "      <td>54.0</td>\n",
       "    </tr>\n",
       "    <tr>\n",
       "      <th>Less than .5 kilometers</th>\n",
       "      <td>56.958710</td>\n",
       "      <td>57.0</td>\n",
       "    </tr>\n",
       "    <tr>\n",
       "      <th>More than 5 kilometers</th>\n",
       "      <td>56.075961</td>\n",
       "      <td>55.0</td>\n",
       "    </tr>\n",
       "  </tbody>\n",
       "</table>\n",
       "</div>"
      ],
      "text/plain": [
       "                                           mean  median\n",
       "avg_distance_traveled_for_food_7days                   \n",
       ".5-1 kilometer                        54.550080    54.0\n",
       "1-3 kilometers                        53.655286    52.0\n",
       "3-5 kilometers                        55.149593    54.0\n",
       "Less than .5 kilometers               56.958710    57.0\n",
       "More than 5 kilometers                56.075961    55.0"
      ]
     },
     "execution_count": 48,
     "metadata": {},
     "output_type": "execute_result"
    }
   ],
   "source": [
    "mergedDataset.groupby(['avg_distance_traveled_for_food_7days'])['FCS_calculation'].agg(['mean','median'])"
   ]
  },
  {
   "cell_type": "code",
   "execution_count": 49,
   "id": "352036b0-27ce-437a-9be6-825306b92069",
   "metadata": {},
   "outputs": [
    {
     "data": {
      "text/html": [
       "<div>\n",
       "<style scoped>\n",
       "    .dataframe tbody tr th:only-of-type {\n",
       "        vertical-align: middle;\n",
       "    }\n",
       "\n",
       "    .dataframe tbody tr th {\n",
       "        vertical-align: top;\n",
       "    }\n",
       "\n",
       "    .dataframe thead th {\n",
       "        text-align: right;\n",
       "    }\n",
       "</style>\n",
       "<table border=\"1\" class=\"dataframe\">\n",
       "  <thead>\n",
       "    <tr style=\"text-align: right;\">\n",
       "      <th></th>\n",
       "      <th></th>\n",
       "      <th>mean</th>\n",
       "      <th>median</th>\n",
       "    </tr>\n",
       "    <tr>\n",
       "      <th>geography</th>\n",
       "      <th>avg_distance_traveled_for_food_7days</th>\n",
       "      <th></th>\n",
       "      <th></th>\n",
       "    </tr>\n",
       "  </thead>\n",
       "  <tbody>\n",
       "    <tr>\n",
       "      <th rowspan=\"5\" valign=\"top\">City center or metropolitan area</th>\n",
       "      <th>.5-1 kilometer</th>\n",
       "      <td>56.646281</td>\n",
       "      <td>56.5</td>\n",
       "    </tr>\n",
       "    <tr>\n",
       "      <th>1-3 kilometers</th>\n",
       "      <td>55.427902</td>\n",
       "      <td>54.0</td>\n",
       "    </tr>\n",
       "    <tr>\n",
       "      <th>3-5 kilometers</th>\n",
       "      <td>56.967616</td>\n",
       "      <td>56.0</td>\n",
       "    </tr>\n",
       "    <tr>\n",
       "      <th>Less than .5 kilometers</th>\n",
       "      <td>59.904269</td>\n",
       "      <td>61.0</td>\n",
       "    </tr>\n",
       "    <tr>\n",
       "      <th>More than 5 kilometers</th>\n",
       "      <td>57.352076</td>\n",
       "      <td>56.5</td>\n",
       "    </tr>\n",
       "    <tr>\n",
       "      <th rowspan=\"5\" valign=\"top\">Rural</th>\n",
       "      <th>.5-1 kilometer</th>\n",
       "      <td>49.090061</td>\n",
       "      <td>46.0</td>\n",
       "    </tr>\n",
       "    <tr>\n",
       "      <th>1-3 kilometers</th>\n",
       "      <td>47.760190</td>\n",
       "      <td>44.5</td>\n",
       "    </tr>\n",
       "    <tr>\n",
       "      <th>3-5 kilometers</th>\n",
       "      <td>46.895824</td>\n",
       "      <td>44.5</td>\n",
       "    </tr>\n",
       "    <tr>\n",
       "      <th>Less than .5 kilometers</th>\n",
       "      <td>48.915004</td>\n",
       "      <td>47.5</td>\n",
       "    </tr>\n",
       "    <tr>\n",
       "      <th>More than 5 kilometers</th>\n",
       "      <td>52.071030</td>\n",
       "      <td>48.5</td>\n",
       "    </tr>\n",
       "    <tr>\n",
       "      <th rowspan=\"5\" valign=\"top\">Suburban/Peri-urban</th>\n",
       "      <th>.5-1 kilometer</th>\n",
       "      <td>54.040619</td>\n",
       "      <td>53.5</td>\n",
       "    </tr>\n",
       "    <tr>\n",
       "      <th>1-3 kilometers</th>\n",
       "      <td>54.163989</td>\n",
       "      <td>54.0</td>\n",
       "    </tr>\n",
       "    <tr>\n",
       "      <th>3-5 kilometers</th>\n",
       "      <td>56.767500</td>\n",
       "      <td>58.0</td>\n",
       "    </tr>\n",
       "    <tr>\n",
       "      <th>Less than .5 kilometers</th>\n",
       "      <td>56.764053</td>\n",
       "      <td>56.5</td>\n",
       "    </tr>\n",
       "    <tr>\n",
       "      <th>More than 5 kilometers</th>\n",
       "      <td>57.499021</td>\n",
       "      <td>59.0</td>\n",
       "    </tr>\n",
       "  </tbody>\n",
       "</table>\n",
       "</div>"
      ],
      "text/plain": [
       "                                                                            mean  \\\n",
       "geography                        avg_distance_traveled_for_food_7days              \n",
       "City center or metropolitan area .5-1 kilometer                        56.646281   \n",
       "                                 1-3 kilometers                        55.427902   \n",
       "                                 3-5 kilometers                        56.967616   \n",
       "                                 Less than .5 kilometers               59.904269   \n",
       "                                 More than 5 kilometers                57.352076   \n",
       "Rural                            .5-1 kilometer                        49.090061   \n",
       "                                 1-3 kilometers                        47.760190   \n",
       "                                 3-5 kilometers                        46.895824   \n",
       "                                 Less than .5 kilometers               48.915004   \n",
       "                                 More than 5 kilometers                52.071030   \n",
       "Suburban/Peri-urban              .5-1 kilometer                        54.040619   \n",
       "                                 1-3 kilometers                        54.163989   \n",
       "                                 3-5 kilometers                        56.767500   \n",
       "                                 Less than .5 kilometers               56.764053   \n",
       "                                 More than 5 kilometers                57.499021   \n",
       "\n",
       "                                                                       median  \n",
       "geography                        avg_distance_traveled_for_food_7days          \n",
       "City center or metropolitan area .5-1 kilometer                          56.5  \n",
       "                                 1-3 kilometers                          54.0  \n",
       "                                 3-5 kilometers                          56.0  \n",
       "                                 Less than .5 kilometers                 61.0  \n",
       "                                 More than 5 kilometers                  56.5  \n",
       "Rural                            .5-1 kilometer                          46.0  \n",
       "                                 1-3 kilometers                          44.5  \n",
       "                                 3-5 kilometers                          44.5  \n",
       "                                 Less than .5 kilometers                 47.5  \n",
       "                                 More than 5 kilometers                  48.5  \n",
       "Suburban/Peri-urban              .5-1 kilometer                          53.5  \n",
       "                                 1-3 kilometers                          54.0  \n",
       "                                 3-5 kilometers                          58.0  \n",
       "                                 Less than .5 kilometers                 56.5  \n",
       "                                 More than 5 kilometers                  59.0  "
      ]
     },
     "execution_count": 49,
     "metadata": {},
     "output_type": "execute_result"
    }
   ],
   "source": [
    "mergedDataset.groupby(['geography','avg_distance_traveled_for_food_7days'])['FCS_calculation'].agg(['mean','median'])"
   ]
  },
  {
   "cell_type": "code",
   "execution_count": 50,
   "id": "4a83694e-1d18-4bb3-a842-b6c67b713d34",
   "metadata": {},
   "outputs": [],
   "source": [
    "# on average the lowest FCS 1-3 km from the market, qualitative data needed to explore this"
   ]
  },
  {
   "cell_type": "code",
   "execution_count": 51,
   "id": "212b256e-e09f-4437-b6d1-e67b23d5dc8c",
   "metadata": {},
   "outputs": [],
   "source": [
    "# Group the dataframe by state and calculate the mean FCS for each state\n",
    "mean_fcs_by_state = mergedDataset.groupby('submission_state')['FCS_calculation'].mean().sort_values(ascending=False).reset_index()"
   ]
  },
  {
   "cell_type": "code",
   "execution_count": 52,
   "id": "825ba20e-8a96-4331-b701-badd188c78b9",
   "metadata": {},
   "outputs": [
    {
     "data": {
      "text/plain": [
       "(array([ 0., 10., 20., 30., 40., 50., 60., 70., 80.]),\n",
       " [Text(0, 0, ''),\n",
       "  Text(0, 0, ''),\n",
       "  Text(0, 0, ''),\n",
       "  Text(0, 0, ''),\n",
       "  Text(0, 0, ''),\n",
       "  Text(0, 0, ''),\n",
       "  Text(0, 0, ''),\n",
       "  Text(0, 0, ''),\n",
       "  Text(0, 0, '')])"
      ]
     },
     "execution_count": 52,
     "metadata": {},
     "output_type": "execute_result"
    },
    {
     "data": {
      "image/png": "[encoded data removed]",
      "text/plain": [
       "<Figure size 640x480 with 1 Axes>"
      ]
     },
     "metadata": {},
     "output_type": "display_data"
    }
   ],
   "source": [
    "# Create a bar chart of the mean FCS by state using Seaborn\n",
    "sns.barplot(x='FCS_calculation', y='submission_state', data= mean_fcs_by_state)\n",
    "plt.title('Mean Food Consumption Score by State')\n",
    "plt.xlabel('Mean FCS')\n",
    "plt.ylabel('State')\n",
    "plt.xticks(rotation=90)"
   ]
  },
  {
   "cell_type": "code",
   "execution_count": 53,
   "id": "d1b6de84-74d3-4c9d-acbd-c7bc3cc594e7",
   "metadata": {},
   "outputs": [],
   "source": [
    "#Trujillo most food security vulnerable and below 35 'acceptable' threshold"
   ]
  },
  {
   "cell_type": "code",
   "execution_count": 54,
   "id": "2d2f06fa-c325-4e13-ac1a-78331a90dea6",
   "metadata": {},
   "outputs": [],
   "source": [
    "# Group the dataframe by employment status and calculate the mean FCS for each type of employment\n",
    "mean_fcs_by_employment = mergedDataset.groupby('employment_status')['FCS_calculation'].mean().sort_values(ascending=False).reset_index()"
   ]
  },
  {
   "cell_type": "code",
   "execution_count": 55,
   "id": "2605ad43-555c-44b0-9831-d9fa47d50266",
   "metadata": {},
   "outputs": [
    {
     "data": {
      "text/plain": [
       "(array([ 0., 10., 20., 30., 40., 50., 60., 70.]),\n",
       " [Text(0, 0, ''),\n",
       "  Text(0, 0, ''),\n",
       "  Text(0, 0, ''),\n",
       "  Text(0, 0, ''),\n",
       "  Text(0, 0, ''),\n",
       "  Text(0, 0, ''),\n",
       "  Text(0, 0, ''),\n",
       "  Text(0, 0, '')])"
      ]
     },
     "execution_count": 55,
     "metadata": {},
     "output_type": "execute_result"
    },
    {
     "data": {
      "image/png": "[encoded data removed]",
      "text/plain": [
       "<Figure size 640x480 with 1 Axes>"
      ]
     },
     "metadata": {},
     "output_type": "display_data"
    }
   ],
   "source": [
    "# Create a bar chart of the mean FCS by employment status using Seaborn\n",
    "sns.barplot(x='FCS_calculation', y='employment_status', data= mean_fcs_by_employment)\n",
    "plt.title('Mean Food Consumption Score by Employment')\n",
    "plt.xlabel('type of employment')\n",
    "plt.ylabel('Mean FCS')\n",
    "plt.xticks(rotation=90)"
   ]
  },
  {
   "cell_type": "code",
   "execution_count": 56,
   "id": "b7137f00-2669-4baf-bafd-35fd1b406c72",
   "metadata": {},
   "outputs": [],
   "source": [
    "# bottom 3 community service/ military service, unable to work and unemployed"
   ]
  },
  {
   "cell_type": "code",
   "execution_count": 57,
   "id": "719ee9ed-8dbd-4ab0-b41a-6df9c4854bb3",
   "metadata": {},
   "outputs": [],
   "source": [
    "#combining vulnerabilities"
   ]
  },
  {
   "cell_type": "code",
   "execution_count": 58,
   "id": "5ba1aae3-9782-47e8-93d1-0c174569ecb4",
   "metadata": {},
   "outputs": [
    {
     "data": {
      "text/plain": [
       "<AxesSubplot:xlabel='geography', ylabel='employment_status'>"
      ]
     },
     "execution_count": 58,
     "metadata": {},
     "output_type": "execute_result"
    },
    {
     "data": {
      "image/png": "[encoded data removed]",
      "text/plain": [
       "<Figure size 640x480 with 2 Axes>"
      ]
     },
     "metadata": {},
     "output_type": "display_data"
    }
   ],
   "source": [
    "heatmap_FCS = mergedDataset.pivot_table(index=\"employment_status\", columns=\"geography\", values=\"FCS_calculation\", aggfunc=\"mean\")\n",
    "sns.heatmap(heatmap_FCS, annot=True, cmap=\"YlGnBu\")"
   ]
  },
  {
   "cell_type": "code",
   "execution_count": 59,
   "id": "6b1734df-615b-4f41-a1f7-b37677a2d3a4",
   "metadata": {
    "tags": []
   },
   "outputs": [],
   "source": [
    "mergedDataset['submission_date']= pd.to_datetime(mergedDataset['submission_date'], infer_datetime_format=True, dayfirst=False, format='%d/%m/%Y')"
   ]
  },
  {
   "cell_type": "code",
   "execution_count": 60,
   "id": "d5bd82b2-2473-44a9-a3b1-a5c85e875dbf",
   "metadata": {
    "tags": []
   },
   "outputs": [],
   "source": [
    "monthly_summary = mergedDataset.resample('M', on='submission_date')['FCS_calculation'].mean()"
   ]
  },
  {
   "cell_type": "code",
   "execution_count": 61,
   "id": "51e1fe7a-0cb9-4ef6-bad6-700d105c86ed",
   "metadata": {},
   "outputs": [
    {
     "data": {
      "text/html": [
       "<div>\n",
       "<style scoped>\n",
       "    .dataframe tbody tr th:only-of-type {\n",
       "        vertical-align: middle;\n",
       "    }\n",
       "\n",
       "    .dataframe tbody tr th {\n",
       "        vertical-align: top;\n",
       "    }\n",
       "\n",
       "    .dataframe thead th {\n",
       "        text-align: right;\n",
       "    }\n",
       "</style>\n",
       "<table border=\"1\" class=\"dataframe\">\n",
       "  <thead>\n",
       "    <tr style=\"text-align: right;\">\n",
       "      <th></th>\n",
       "      <th>index</th>\n",
       "      <th>submission_id</th>\n",
       "      <th>gender</th>\n",
       "      <th>age</th>\n",
       "      <th>geography</th>\n",
       "      <th>financial_situation</th>\n",
       "      <th>education</th>\n",
       "      <th>employment_status</th>\n",
       "      <th>submission_state</th>\n",
       "      <th>cereals_plantains_tubers_7days</th>\n",
       "      <th>...</th>\n",
       "      <th>spend_food_savings_7days</th>\n",
       "      <th>sell_or_exchange_property_7days</th>\n",
       "      <th>work_in_exchange_for_food_7days</th>\n",
       "      <th>food_purchased_7days</th>\n",
       "      <th>food_purchased_from_7days</th>\n",
       "      <th>food_transferred_7days</th>\n",
       "      <th>avg_distance_traveled_for_food_7days</th>\n",
       "      <th>head_household</th>\n",
       "      <th>FCS_category</th>\n",
       "      <th>FCS_calculation</th>\n",
       "    </tr>\n",
       "    <tr>\n",
       "      <th>submission_date</th>\n",
       "      <th></th>\n",
       "      <th></th>\n",
       "      <th></th>\n",
       "      <th></th>\n",
       "      <th></th>\n",
       "      <th></th>\n",
       "      <th></th>\n",
       "      <th></th>\n",
       "      <th></th>\n",
       "      <th></th>\n",
       "      <th></th>\n",
       "      <th></th>\n",
       "      <th></th>\n",
       "      <th></th>\n",
       "      <th></th>\n",
       "      <th></th>\n",
       "      <th></th>\n",
       "      <th></th>\n",
       "      <th></th>\n",
       "      <th></th>\n",
       "      <th></th>\n",
       "    </tr>\n",
       "  </thead>\n",
       "  <tbody>\n",
       "    <tr>\n",
       "      <th>2020-06-10</th>\n",
       "      <td>0</td>\n",
       "      <td>5308575264276480</td>\n",
       "      <td>Male</td>\n",
       "      <td>26 to 35 years old</td>\n",
       "      <td>Suburban/Peri-urban</td>\n",
       "      <td>I can afford food, but nothing else</td>\n",
       "      <td>University or college degree completed</td>\n",
       "      <td>I am doing community or military service</td>\n",
       "      <td>Nueva Esparta</td>\n",
       "      <td>1</td>\n",
       "      <td>...</td>\n",
       "      <td>3.0</td>\n",
       "      <td>0.0</td>\n",
       "      <td>4.0</td>\n",
       "      <td>3</td>\n",
       "      <td>Butcher shop^Grocery store^Market</td>\n",
       "      <td>Bicycle^On foot</td>\n",
       "      <td>.5-1 kilometer</td>\n",
       "      <td>Yes</td>\n",
       "      <td>FCS Acceptable</td>\n",
       "      <td>41.5</td>\n",
       "    </tr>\n",
       "    <tr>\n",
       "      <th>2020-05-29</th>\n",
       "      <td>1</td>\n",
       "      <td>6044576395821056</td>\n",
       "      <td>Male</td>\n",
       "      <td>26 to 35 years old</td>\n",
       "      <td>Suburban/Peri-urban</td>\n",
       "      <td>I can afford food, but nothing else</td>\n",
       "      <td>University or college degree completed</td>\n",
       "      <td>I am doing community or military service</td>\n",
       "      <td>Nueva Esparta</td>\n",
       "      <td>2</td>\n",
       "      <td>...</td>\n",
       "      <td>2.0</td>\n",
       "      <td>1.0</td>\n",
       "      <td>1.0</td>\n",
       "      <td>1</td>\n",
       "      <td>Market</td>\n",
       "      <td>On foot</td>\n",
       "      <td>.5-1 kilometer</td>\n",
       "      <td>Yes</td>\n",
       "      <td>FCS Acceptable</td>\n",
       "      <td>40.0</td>\n",
       "    </tr>\n",
       "  </tbody>\n",
       "</table>\n",
       "<p>2 rows × 37 columns</p>\n",
       "</div>"
      ],
      "text/plain": [
       "                 index     submission_id gender                 age  \\\n",
       "submission_date                                                       \n",
       "2020-06-10           0  5308575264276480   Male  26 to 35 years old   \n",
       "2020-05-29           1  6044576395821056   Male  26 to 35 years old   \n",
       "\n",
       "                           geography                  financial_situation  \\\n",
       "submission_date                                                             \n",
       "2020-06-10       Suburban/Peri-urban  I can afford food, but nothing else   \n",
       "2020-05-29       Suburban/Peri-urban  I can afford food, but nothing else   \n",
       "\n",
       "                                              education  \\\n",
       "submission_date                                           \n",
       "2020-06-10       University or college degree completed   \n",
       "2020-05-29       University or college degree completed   \n",
       "\n",
       "                                        employment_status submission_state  \\\n",
       "submission_date                                                              \n",
       "2020-06-10       I am doing community or military service    Nueva Esparta   \n",
       "2020-05-29       I am doing community or military service    Nueva Esparta   \n",
       "\n",
       "                 cereals_plantains_tubers_7days  ...  \\\n",
       "submission_date                                  ...   \n",
       "2020-06-10                                    1  ...   \n",
       "2020-05-29                                    2  ...   \n",
       "\n",
       "                 spend_food_savings_7days  sell_or_exchange_property_7days  \\\n",
       "submission_date                                                              \n",
       "2020-06-10                            3.0                              0.0   \n",
       "2020-05-29                            2.0                              1.0   \n",
       "\n",
       "                 work_in_exchange_for_food_7days  food_purchased_7days  \\\n",
       "submission_date                                                          \n",
       "2020-06-10                                   4.0                     3   \n",
       "2020-05-29                                   1.0                     1   \n",
       "\n",
       "                         food_purchased_from_7days  food_transferred_7days  \\\n",
       "submission_date                                                              \n",
       "2020-06-10       Butcher shop^Grocery store^Market         Bicycle^On foot   \n",
       "2020-05-29                                  Market                 On foot   \n",
       "\n",
       "                 avg_distance_traveled_for_food_7days  head_household  \\\n",
       "submission_date                                                         \n",
       "2020-06-10                             .5-1 kilometer             Yes   \n",
       "2020-05-29                             .5-1 kilometer             Yes   \n",
       "\n",
       "                   FCS_category  FCS_calculation  \n",
       "submission_date                                   \n",
       "2020-06-10       FCS Acceptable             41.5  \n",
       "2020-05-29       FCS Acceptable             40.0  \n",
       "\n",
       "[2 rows x 37 columns]"
      ]
     },
     "execution_count": 61,
     "metadata": {},
     "output_type": "execute_result"
    }
   ],
   "source": [
    "mergedDataset.set_index('submission_date').head(2)"
   ]
  },
  {
   "cell_type": "code",
   "execution_count": 62,
   "id": "715119c2-e791-4bf1-8a07-1faddcc6af9d",
   "metadata": {},
   "outputs": [
    {
     "data": {
      "text/plain": [
       "(array([18383., 18444., 18506., 18567., 18628., 18687., 18748., 18809.,\n",
       "        18871.]),\n",
       " [Text(0, 0, ''),\n",
       "  Text(0, 0, ''),\n",
       "  Text(0, 0, ''),\n",
       "  Text(0, 0, ''),\n",
       "  Text(0, 0, ''),\n",
       "  Text(0, 0, ''),\n",
       "  Text(0, 0, ''),\n",
       "  Text(0, 0, ''),\n",
       "  Text(0, 0, '')])"
      ]
     },
     "execution_count": 62,
     "metadata": {},
     "output_type": "execute_result"
    },
    {
     "data": {
      "image/png": "[encoded data removed]",
      "text/plain": [
       "<Figure size 640x480 with 1 Axes>"
      ]
     },
     "metadata": {},
     "output_type": "display_data"
    }
   ],
   "source": [
    "mergedDataset.groupby('submission_date', sort=False)['FCS_calculation'].agg(['mean','median']).plot()\n",
    "plt.ylabel('Raw FCS score')\n",
    "plt.title('FCS overtime')\n",
    "plt.xticks(rotation=90)"
   ]
  }
 ],
 "metadata": {
  "kernelspec": {
   "display_name": "Python 3 (ipykernel)",
   "language": "python",
   "name": "python3"
  },
  "language_info": {
   "codemirror_mode": {
    "name": "ipython",
    "version": 3
   },
   "file_extension": ".py",
   "mimetype": "text/x-python",
   "name": "python",
   "nbconvert_exporter": "python",
   "pygments_lexer": "ipython3",
   "version": "3.9.13"
  }
 },
 "nbformat": 4,
 "nbformat_minor": 5
}
